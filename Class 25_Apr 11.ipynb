{
 "cells": [
  {
   "cell_type": "markdown",
   "metadata": {},
   "source": [
    "<h1> Day 25 - Class </h1>\n",
    "\n",
    "## CART Algorithms\n",
    "\n",
    "CART - Classification And Regression Trees\n",
    "\n",
    "Used for non linear data. \n",
    "\n",
    "Decision trees are the basis for the classification algorithm.\n",
    "\n",
    "- Classification\n",
    "    - Decision Tree Classification\n",
    "    - Random Forest Classification\n",
    "    - Bagging Classification\n",
    "\n",
    "- Regression\n",
    "    - Decision Tree Regression\n",
    "    - Random Forest Regression\n",
    "    - Bagging Regression\n",
    "\n",
    "- Ensemble Models\n",
    "    - Bagging\n",
    "    - Boosting\n",
    "        - ADA Boosting (Adaptive Boosting)\n",
    "        - Gradient Boosting (GB Boosting)\n",
    "        - XG Boosting  (Extreme Gradient)\n",
    "    - Stacking\n",
    "        - Blended Stacking Bootstrap Aggregation"
   ]
  },
  {
   "cell_type": "markdown",
   "metadata": {},
   "source": [
    "## Decision Tree Classification\n",
    "\n",
    "Binary classification problem - When your y variable has only 2 classes.\n",
    "\n",
    "Multi classification problem - When your y variable has more than 2 classes.\n",
    "\n",
    "Consider the below dataset, where we are trying to predict a persons EMI repayment capability based on his gender, existing car loan,existing home loan\n",
    "<img src='img/dt-2.png'/>"
   ]
  },
  {
   "cell_type": "markdown",
   "metadata": {},
   "source": [
    "When can try to draw a tree as similar to the one in the right. let's try to interpret the tree.\n",
    "\n",
    "If we consider Gender as the root, \n",
    "- we have total 12 people \n",
    "    - out of which five people are in '0' category\n",
    "    - seven people are in '1' category. \n",
    "\n",
    "Considering second level as House Loan, \n",
    "- out of the five people who belongs to category '0' gender\n",
    "    - one doesnt have housing loan\n",
    "    - four has housing loan\n",
    "    \n",
    "- out of the seven people who belongs to category '1' gender\n",
    "    - four doesnt have housing loan\n",
    "    - three has housing loan\n",
    "    \n",
    "and so on .. I believe you got the drift"
   ]
  },
  {
   "cell_type": "markdown",
   "metadata": {},
   "source": [
    "The maximum level of a tree, will be the number of features available in the dataset. <b> A fully grown tree </b> is a tree with all the columns considered.\n",
    "\n",
    "Once we have constructed a tree, let's consider a new row for which we have to predict the y value. Take each attribute of the new row and see which path will the new row take to reach a decision. Once you get to the leaf node you can say out of all the people with similar characteristics, 'm' is the probability that he has the capacity to pay the EMI and 'n' is the probability he doesnt not  have the capacity to pay the EMI. i.e. Majority voting applies. In regression problems, we take the mean of the people available.\n",
    "\n",
    "With fully grown decision trees, one of the major problem is 'Overfitting'. i.e. it works well on test data , but not in train data. i.e. Decision Tree is harder to generalize."
   ]
  },
  {
   "cell_type": "markdown",
   "metadata": {},
   "source": [
    "### Pruning\n",
    "How do we control/restrict the growth of a tree ?  Answer is <b> Pruning </b>\n",
    "\n",
    "How to Prune ?\n",
    "- Instead of considering all columns, we can pick important columns that's one way to Prune the data\n",
    "- On the decision nodes(nodes are called decision nodes), we can put conditions. i.e. create the node only if there are more than 'n' number of observations."
   ]
  },
  {
   "cell_type": "markdown",
   "metadata": {},
   "source": [
    "### How to decide which variables to be considered on what level of the tree ?\n",
    "Imagine a dataset where we have the following, \n",
    "- people who likes watching  movies .. let's imagine the distribution as 60 : 40\n",
    "- people who likes watching games .. let's imagine the distribition as 70 : 30 \n",
    "\n",
    "Which one would you consider for the root node ? Ofcourse people who likes watching movies, because the tree will be balanced better on both sides with that choice. \n",
    "\n",
    "The best split will be when , \n",
    "within the split, data has similar characteristics. \n",
    "Across splits, data should have different characteristics.\n",
    "\n",
    "We have to understand a few concepts to find the right split\n",
    "<b>\n",
    "<pre>\n",
    "- Entropy\n",
    "- GINI Index\n",
    "- Information Gain\n",
    "- CHAID\n",
    "</pre>\n",
    "</b>\n",
    "\n",
    "With these 4 ways , we can find the perfect column to start the tree.\n",
    "\n",
    "i.e. let's imagine x1,x2,x3,x4 and y as the dataset. We find information gain for each variables w.r.t to y\n",
    "\n",
    "find information gain of x1,y\n",
    "information gain of x2,y\n",
    "information gain of x3,y\n",
    "information gain of x4,y\n",
    "\n",
    "The field with the maximum information gain can be chosen as the first node"
   ]
  },
  {
   "cell_type": "markdown",
   "metadata": {},
   "source": [
    "#### Entropy\n",
    "\n",
    "Entropy is nothing but the measure of disorder. Entropy will be a value between 0 and 1. \n",
    "\n",
    "- 0 - means it's a homogeneous mixture (i.e. no disorder or in otherwords, the data is very pure)\n",
    "- 1 - means it's a heterogeneous mixture (i.e high disorder or in other words, the data is very impure)\n",
    "\n",
    "The Mathematical formula for Entropy is as follows\n",
    "\n",
    "<img src='img/entropy-03.png' />\n",
    "\n",
    "Let’s say we only have two classes , a positive class and a negative class. Therefore ‘i’ here could be either + or (-). So if we had a total of 100 data points in our dataset with 30 belonging to the positive class and 70 belonging to the negative class then ‘P+’ would be 3/10 and ‘P-’ would be 7/10. Pretty straightforward.\n",
    "\n",
    "If I was to calculate the entropy of my classes in this example using the formula above. Here’s what I would get.\n",
    "\n",
    "<img src='img/entropy-04.png' />\n",
    "\n",
    "The entropy here is approximately 0.88. This is considered a high entropy , a high level of disorder ( meaning low level of purity). Entropy is measured between 0 and 1.(Depending on the number of classes in your dataset, entropy can be greater than 1 but it means the same thing , a very high level of disorder. For the sake of simplicity, the examples in this blog will have entropy between 0 and 1).\n",
    "\n",
    "See the image below, when the data set has only +ves, or -ves, entropy is very low, when the data is a 50:50 mix, entropy is at maximum\n",
    "<img src='img/entropy-05.png' />\n",
    "\n",
    "#### Information Gain\n",
    "Now we know how to measure disorder. Next we need a metric to measure the reduction of this disorder in our target variable/class given additional information( features/independent variables) about it. This is where Information Gain comes in. Mathematically it can be written as:\n",
    "<img src='img/ig-02.png' />\n",
    "\n",
    "We simply subtract the entropy of Y given X from the entropy of just Y to calculate the reduction of uncertainty about Y given an additional piece of information X about Y. This is called Information Gain. The greater the reduction in this uncertainty, the more information is gained about Y from X.\n",
    "\n",
    "Let's take an example as shown below, here our target variable is Liability which can take on two values “Normal” and “High” and we only have one feature called Credit Rating which can take on values “Excellent”, “Good” and “Poor”. \n",
    "<img src='img/ig-03.png' />\n",
    "\n",
    "<img src='img/ig-04.png' />\n",
    "\n",
    "The entropy of our target variable is 1, at maximum disorder due to the even split between class label “Normal” and “High”. Our next step is to calculate the entropy of our target variable Liability given additional information about credit score.\n",
    "\n",
    "<img src='img/ig-05.png' />\n",
    "\n",
    "We got the entropy for our target variable given the feature Credit Rating. Now we can compute the Information Gain on Liability from Credit Rating to see how informative this feature is.\n",
    "\n",
    "<img src='img/ig-06.png' />\n",
    "\n",
    "Knowing the Credit Rating helped us reduce the uncertainty around our target variable, Liability! Isn’t that what a good feature is supposed to do? Provide us information about our target variable? Well that’s exactly how and why decision trees use entropy and information gain to determine which feature to split their nodes on to get closer to predicting the target variable with each split and also to determine when to stop splitting the tree! ( in addition to hyper-parameters like max depth of course). Let’s see this in action with another example using decision trees."
   ]
  },
  {
   "cell_type": "markdown",
   "metadata": {},
   "source": [
    "#### Choosing the important feature out of the available multiple features\n",
    "Consider an example where we are building a decision tree to predict whether a loan given to a person would result in a write-off or not. Our entire population consists of 30 instances. 16 belong to the write-off class and the other 14 belong to the non-write-off class.\n",
    "\n",
    "We have two features, namely \n",
    "- “Balance” that can take on two values -> “< 50K” or “>50K” and \n",
    "- “Residence” that can take on three values -> “OWN”, “RENT” or “OTHER”. \n",
    "\n",
    "I’m going to show you how a decision tree algorithm would decide what attribute to split on first and what feature provides more information, or reduces more uncertainty about our target variable out of the two using the concepts of Entropy and Information Gain.\n",
    "\n",
    "<table>\n",
    "    <tr>\n",
    "        <td>\n",
    "            Feature 1: Balance\n",
    "        </td>\n",
    "        <td>\n",
    "            Feature 2: Residence\n",
    "        </td>\n",
    "    </tr>\n",
    "    <tr>\n",
    "        <td>\n",
    "            <img src='img/ig-07.png'/>\n",
    "        </td>\n",
    "        <td>\n",
    "            <img src='img/ig-08.png'/>\n",
    "        </td>\n",
    "    </tr>\n",
    "</table>\n",
    "\n",
    "Calculation for Feature - 1 (Balance)\n",
    "\n",
    "<img src='img/ig-09.png'/>\n",
    "\n",
    "Calculation for Feature - 2 (Residence)\n",
    "\n",
    "<img src='img/ig-10.png'/>\n",
    "\n",
    "The information gain from feature, Balance is almost 3 times more than the information gain from Residence! If you go back and take a look at the graphs you can see that the child nodes from splitting on Balance do seem purer than those of Residence. \n",
    "\n",
    "However the left most node for residence is also very pure but this is where the weighted averages come in play. Even though that node is very pure, it has the least amount of the total observations and a result contributes a small portion of it’s purity when we calculate the total entropy from splitting on Residence. This is important because we’re looking for overall informative power of a feature and we don’t want our results to be skewed by a rare value in a feature.\n",
    "\n",
    " A decision tree algorithm would use this result to make the first split on our data using Balance. From here on, the decision tree algorithm would use this process at every split to decide what feature it is going to split on next. In a real world scenario , with more than two features the first split is made on the most informative feature and then at every split the information gain for each additional feature needs to be recomputed because it would not be the same as the information gain from each feature by itself. The entropy and information gain would have to be calculated after one or more splits have already been made which would change the results. A decision tree would repeat this process as it grows deeper and deeper till either it reaches a pre-defined depth or no additional split can result in a higher information gain beyond a certain threshold which can also usually be specified as a hyper-parameter!"
   ]
  },
  {
   "cell_type": "markdown",
   "metadata": {},
   "source": [
    "#### Sample Entropy Calcuation\n",
    "\n",
    "Read the article <a href='https://www.saedsayad.com/decision_tree.htm'>here</a>\n",
    "\n",
    "a) Entropy using the frequency table of one attribute:\n",
    "\n",
    "<img src='img/entropy-1.png'/>\n",
    "\n",
    "Probability of playing golf = 9/14 = 0.64\n",
    "\n",
    "Probability of not playing golf = 5/14 = 0.36\n",
    "\n",
    "This is only with respect to one variable, we can also calculate entropy for x1,y | x2,y and so on\n",
    "\n",
    "b) Entropy using the frequency table of two attributes:\n",
    "\n",
    "<img src='img/entropy-2.png'/>\n",
    "\n",
    "Information Gain\n",
    "\n",
    "IG(X1) = E(Y) - E(Y,X1)\n",
    "<img src='img/ig-1.png'/> \n",
    "\n",
    "The column having the highest information gain can be selected as first level nodes in the tree. For every node of the tree Information Gain calculation is performed (we could see same field appearing again as well)\n",
    "\n",
    "#### Program for Entropy calculation\n",
    "\n",
    "First let's calculate entropy for y variable alone (i.e.  \"Entropy using the frequency table of one attribute\" - formulae 1  in the above)"
   ]
  },
  {
   "cell_type": "code",
   "execution_count": 2,
   "metadata": {},
   "outputs": [
    {
     "data": {
      "text/html": [
       "<div>\n",
       "<style scoped>\n",
       "    .dataframe tbody tr th:only-of-type {\n",
       "        vertical-align: middle;\n",
       "    }\n",
       "\n",
       "    .dataframe tbody tr th {\n",
       "        vertical-align: top;\n",
       "    }\n",
       "\n",
       "    .dataframe thead th {\n",
       "        text-align: right;\n",
       "    }\n",
       "</style>\n",
       "<table border=\"1\" class=\"dataframe\">\n",
       "  <thead>\n",
       "    <tr style=\"text-align: right;\">\n",
       "      <th></th>\n",
       "      <th>survived</th>\n",
       "      <th>pclass</th>\n",
       "      <th>sex</th>\n",
       "      <th>age</th>\n",
       "      <th>sibsp</th>\n",
       "      <th>parch</th>\n",
       "      <th>fare</th>\n",
       "      <th>embarked</th>\n",
       "      <th>class</th>\n",
       "      <th>who</th>\n",
       "      <th>adult_male</th>\n",
       "      <th>deck</th>\n",
       "      <th>embark_town</th>\n",
       "      <th>alive</th>\n",
       "      <th>alone</th>\n",
       "    </tr>\n",
       "  </thead>\n",
       "  <tbody>\n",
       "    <tr>\n",
       "      <td>0</td>\n",
       "      <td>0</td>\n",
       "      <td>3</td>\n",
       "      <td>male</td>\n",
       "      <td>22.0</td>\n",
       "      <td>1</td>\n",
       "      <td>0</td>\n",
       "      <td>7.2500</td>\n",
       "      <td>S</td>\n",
       "      <td>Third</td>\n",
       "      <td>man</td>\n",
       "      <td>True</td>\n",
       "      <td>NaN</td>\n",
       "      <td>Southampton</td>\n",
       "      <td>no</td>\n",
       "      <td>False</td>\n",
       "    </tr>\n",
       "    <tr>\n",
       "      <td>1</td>\n",
       "      <td>1</td>\n",
       "      <td>1</td>\n",
       "      <td>female</td>\n",
       "      <td>38.0</td>\n",
       "      <td>1</td>\n",
       "      <td>0</td>\n",
       "      <td>71.2833</td>\n",
       "      <td>C</td>\n",
       "      <td>First</td>\n",
       "      <td>woman</td>\n",
       "      <td>False</td>\n",
       "      <td>C</td>\n",
       "      <td>Cherbourg</td>\n",
       "      <td>yes</td>\n",
       "      <td>False</td>\n",
       "    </tr>\n",
       "    <tr>\n",
       "      <td>2</td>\n",
       "      <td>1</td>\n",
       "      <td>3</td>\n",
       "      <td>female</td>\n",
       "      <td>26.0</td>\n",
       "      <td>0</td>\n",
       "      <td>0</td>\n",
       "      <td>7.9250</td>\n",
       "      <td>S</td>\n",
       "      <td>Third</td>\n",
       "      <td>woman</td>\n",
       "      <td>False</td>\n",
       "      <td>NaN</td>\n",
       "      <td>Southampton</td>\n",
       "      <td>yes</td>\n",
       "      <td>True</td>\n",
       "    </tr>\n",
       "    <tr>\n",
       "      <td>3</td>\n",
       "      <td>1</td>\n",
       "      <td>1</td>\n",
       "      <td>female</td>\n",
       "      <td>35.0</td>\n",
       "      <td>1</td>\n",
       "      <td>0</td>\n",
       "      <td>53.1000</td>\n",
       "      <td>S</td>\n",
       "      <td>First</td>\n",
       "      <td>woman</td>\n",
       "      <td>False</td>\n",
       "      <td>C</td>\n",
       "      <td>Southampton</td>\n",
       "      <td>yes</td>\n",
       "      <td>False</td>\n",
       "    </tr>\n",
       "    <tr>\n",
       "      <td>4</td>\n",
       "      <td>0</td>\n",
       "      <td>3</td>\n",
       "      <td>male</td>\n",
       "      <td>35.0</td>\n",
       "      <td>0</td>\n",
       "      <td>0</td>\n",
       "      <td>8.0500</td>\n",
       "      <td>S</td>\n",
       "      <td>Third</td>\n",
       "      <td>man</td>\n",
       "      <td>True</td>\n",
       "      <td>NaN</td>\n",
       "      <td>Southampton</td>\n",
       "      <td>no</td>\n",
       "      <td>True</td>\n",
       "    </tr>\n",
       "  </tbody>\n",
       "</table>\n",
       "</div>"
      ],
      "text/plain": [
       "   survived  pclass     sex   age  sibsp  parch     fare embarked  class  \\\n",
       "0         0       3    male  22.0      1      0   7.2500        S  Third   \n",
       "1         1       1  female  38.0      1      0  71.2833        C  First   \n",
       "2         1       3  female  26.0      0      0   7.9250        S  Third   \n",
       "3         1       1  female  35.0      1      0  53.1000        S  First   \n",
       "4         0       3    male  35.0      0      0   8.0500        S  Third   \n",
       "\n",
       "     who  adult_male deck  embark_town alive  alone  \n",
       "0    man        True  NaN  Southampton    no  False  \n",
       "1  woman       False    C    Cherbourg   yes  False  \n",
       "2  woman       False  NaN  Southampton   yes   True  \n",
       "3  woman       False    C  Southampton   yes  False  \n",
       "4    man        True  NaN  Southampton    no   True  "
      ]
     },
     "execution_count": 2,
     "metadata": {},
     "output_type": "execute_result"
    }
   ],
   "source": [
    "import pandas as pd\n",
    "import numpy as np\n",
    "import seaborn as sns\n",
    "\n",
    "df = sns.load_dataset('titanic')\n",
    "df.head()"
   ]
  },
  {
   "cell_type": "code",
   "execution_count": 4,
   "metadata": {},
   "outputs": [
    {
     "data": {
      "text/html": [
       "<div>\n",
       "<style scoped>\n",
       "    .dataframe tbody tr th:only-of-type {\n",
       "        vertical-align: middle;\n",
       "    }\n",
       "\n",
       "    .dataframe tbody tr th {\n",
       "        vertical-align: top;\n",
       "    }\n",
       "\n",
       "    .dataframe thead th {\n",
       "        text-align: right;\n",
       "    }\n",
       "</style>\n",
       "<table border=\"1\" class=\"dataframe\">\n",
       "  <thead>\n",
       "    <tr style=\"text-align: right;\">\n",
       "      <th></th>\n",
       "      <th>survived</th>\n",
       "      <th>sex</th>\n",
       "      <th>who</th>\n",
       "      <th>adult_male</th>\n",
       "      <th>fare</th>\n",
       "    </tr>\n",
       "  </thead>\n",
       "  <tbody>\n",
       "    <tr>\n",
       "      <td>0</td>\n",
       "      <td>0</td>\n",
       "      <td>male</td>\n",
       "      <td>man</td>\n",
       "      <td>True</td>\n",
       "      <td>7.2500</td>\n",
       "    </tr>\n",
       "    <tr>\n",
       "      <td>1</td>\n",
       "      <td>1</td>\n",
       "      <td>female</td>\n",
       "      <td>woman</td>\n",
       "      <td>False</td>\n",
       "      <td>71.2833</td>\n",
       "    </tr>\n",
       "    <tr>\n",
       "      <td>2</td>\n",
       "      <td>1</td>\n",
       "      <td>female</td>\n",
       "      <td>woman</td>\n",
       "      <td>False</td>\n",
       "      <td>7.9250</td>\n",
       "    </tr>\n",
       "    <tr>\n",
       "      <td>3</td>\n",
       "      <td>1</td>\n",
       "      <td>female</td>\n",
       "      <td>woman</td>\n",
       "      <td>False</td>\n",
       "      <td>53.1000</td>\n",
       "    </tr>\n",
       "    <tr>\n",
       "      <td>4</td>\n",
       "      <td>0</td>\n",
       "      <td>male</td>\n",
       "      <td>man</td>\n",
       "      <td>True</td>\n",
       "      <td>8.0500</td>\n",
       "    </tr>\n",
       "    <tr>\n",
       "      <td>...</td>\n",
       "      <td>...</td>\n",
       "      <td>...</td>\n",
       "      <td>...</td>\n",
       "      <td>...</td>\n",
       "      <td>...</td>\n",
       "    </tr>\n",
       "    <tr>\n",
       "      <td>886</td>\n",
       "      <td>0</td>\n",
       "      <td>male</td>\n",
       "      <td>man</td>\n",
       "      <td>True</td>\n",
       "      <td>13.0000</td>\n",
       "    </tr>\n",
       "    <tr>\n",
       "      <td>887</td>\n",
       "      <td>1</td>\n",
       "      <td>female</td>\n",
       "      <td>woman</td>\n",
       "      <td>False</td>\n",
       "      <td>30.0000</td>\n",
       "    </tr>\n",
       "    <tr>\n",
       "      <td>888</td>\n",
       "      <td>0</td>\n",
       "      <td>female</td>\n",
       "      <td>woman</td>\n",
       "      <td>False</td>\n",
       "      <td>23.4500</td>\n",
       "    </tr>\n",
       "    <tr>\n",
       "      <td>889</td>\n",
       "      <td>1</td>\n",
       "      <td>male</td>\n",
       "      <td>man</td>\n",
       "      <td>True</td>\n",
       "      <td>30.0000</td>\n",
       "    </tr>\n",
       "    <tr>\n",
       "      <td>890</td>\n",
       "      <td>0</td>\n",
       "      <td>male</td>\n",
       "      <td>man</td>\n",
       "      <td>True</td>\n",
       "      <td>7.7500</td>\n",
       "    </tr>\n",
       "  </tbody>\n",
       "</table>\n",
       "<p>891 rows × 5 columns</p>\n",
       "</div>"
      ],
      "text/plain": [
       "     survived     sex    who  adult_male     fare\n",
       "0           0    male    man        True   7.2500\n",
       "1           1  female  woman       False  71.2833\n",
       "2           1  female  woman       False   7.9250\n",
       "3           1  female  woman       False  53.1000\n",
       "4           0    male    man        True   8.0500\n",
       "..        ...     ...    ...         ...      ...\n",
       "886         0    male    man        True  13.0000\n",
       "887         1  female  woman       False  30.0000\n",
       "888         0  female  woman       False  23.4500\n",
       "889         1    male    man        True  30.0000\n",
       "890         0    male    man        True   7.7500\n",
       "\n",
       "[891 rows x 5 columns]"
      ]
     },
     "execution_count": 4,
     "metadata": {},
     "output_type": "execute_result"
    }
   ],
   "source": [
    "dataset = df[['survived','sex','who','adult_male','fare']]\n",
    "dataset"
   ]
  },
  {
   "cell_type": "code",
   "execution_count": 7,
   "metadata": {},
   "outputs": [
    {
     "name": "stderr",
     "output_type": "stream",
     "text": [
      "C:\\Users\\Rani\\Anaconda3\\lib\\site-packages\\ipykernel_launcher.py:8: SettingWithCopyWarning: \n",
      "A value is trying to be set on a copy of a slice from a DataFrame.\n",
      "Try using .loc[row_indexer,col_indexer] = value instead\n",
      "\n",
      "See the caveats in the documentation: http://pandas.pydata.org/pandas-docs/stable/user_guide/indexing.html#returning-a-view-versus-a-copy\n",
      "  \n"
     ]
    },
    {
     "data": {
      "text/plain": [
       "survived      0\n",
       "sex           0\n",
       "who           0\n",
       "adult_male    0\n",
       "fare          0\n",
       "dtype: int64"
      ]
     },
     "execution_count": 7,
     "metadata": {},
     "output_type": "execute_result"
    }
   ],
   "source": [
    "# Even we can use continous variables, but we convert them to binary\n",
    "x = []\n",
    "for i in dataset['fare']:\n",
    "    if i > dataset['fare'].mean() :\n",
    "        x.append(1)\n",
    "    else:\n",
    "        x.append(0)\n",
    "dataset['fare'] = x\n",
    "dataset.isna().sum()"
   ]
  },
  {
   "cell_type": "code",
   "execution_count": 8,
   "metadata": {},
   "outputs": [
    {
     "data": {
      "text/plain": [
       "((891,), (891, 4))"
      ]
     },
     "execution_count": 8,
     "metadata": {},
     "output_type": "execute_result"
    }
   ],
   "source": [
    "# we can consider y variable as survived\n",
    "y = dataset['survived']\n",
    "x = dataset.drop('survived',axis=1)\n",
    "\n",
    "y.shape, x.shape"
   ]
  },
  {
   "cell_type": "code",
   "execution_count": 10,
   "metadata": {},
   "outputs": [
    {
     "data": {
      "text/plain": [
       "0    549\n",
       "1    342\n",
       "Name: survived, dtype: int64"
      ]
     },
     "execution_count": 10,
     "metadata": {},
     "output_type": "execute_result"
    }
   ],
   "source": [
    "y.value_counts()"
   ]
  },
  {
   "cell_type": "code",
   "execution_count": 12,
   "metadata": {},
   "outputs": [
    {
     "data": {
      "text/plain": [
       "(0.6161616161616161, 0.3838383838383838)"
      ]
     },
     "execution_count": 12,
     "metadata": {},
     "output_type": "execute_result"
    }
   ],
   "source": [
    "probabilites = y.value_counts().values/y.value_counts().sum()\n",
    "p1 = probabilites[0]\n",
    "p2 = probabilites[1]\n",
    "p1,p2"
   ]
  },
  {
   "cell_type": "code",
   "execution_count": 13,
   "metadata": {},
   "outputs": [
    {
     "data": {
      "text/plain": [
       "0.9607079018756469"
      ]
     },
     "execution_count": 13,
     "metadata": {},
     "output_type": "execute_result"
    }
   ],
   "source": [
    "import math\n",
    "-p1 * math.log(p1,2)-p2 * math.log(p2,2)\n",
    "\n",
    "# Entropy for y = 0.9607079018756469"
   ]
  },
  {
   "cell_type": "markdown",
   "metadata": {},
   "source": [
    "<b> Now let's calculate Entropy for E(T,X) i.e. target variable and one of the X variable. Let's consider survived and gender </b>"
   ]
  },
  {
   "cell_type": "code",
   "execution_count": 15,
   "metadata": {},
   "outputs": [
    {
     "data": {
      "text/html": [
       "<div>\n",
       "<style scoped>\n",
       "    .dataframe tbody tr th:only-of-type {\n",
       "        vertical-align: middle;\n",
       "    }\n",
       "\n",
       "    .dataframe tbody tr th {\n",
       "        vertical-align: top;\n",
       "    }\n",
       "\n",
       "    .dataframe thead th {\n",
       "        text-align: right;\n",
       "    }\n",
       "</style>\n",
       "<table border=\"1\" class=\"dataframe\">\n",
       "  <thead>\n",
       "    <tr style=\"text-align: right;\">\n",
       "      <th>survived</th>\n",
       "      <th>0</th>\n",
       "      <th>1</th>\n",
       "    </tr>\n",
       "    <tr>\n",
       "      <th>sex</th>\n",
       "      <th></th>\n",
       "      <th></th>\n",
       "    </tr>\n",
       "  </thead>\n",
       "  <tbody>\n",
       "    <tr>\n",
       "      <td>female</td>\n",
       "      <td>81</td>\n",
       "      <td>233</td>\n",
       "    </tr>\n",
       "    <tr>\n",
       "      <td>male</td>\n",
       "      <td>468</td>\n",
       "      <td>109</td>\n",
       "    </tr>\n",
       "  </tbody>\n",
       "</table>\n",
       "</div>"
      ],
      "text/plain": [
       "survived    0    1\n",
       "sex               \n",
       "female     81  233\n",
       "male      468  109"
      ]
     },
     "execution_count": 15,
     "metadata": {},
     "output_type": "execute_result"
    }
   ],
   "source": [
    "#E(Survived,Gender)\n",
    "entropy_x1 = pd.crosstab(df['survived'],df['sex']).T\n",
    "entropy_x1"
   ]
  },
  {
   "cell_type": "code",
   "execution_count": 17,
   "metadata": {},
   "outputs": [
    {
     "data": {
      "text/plain": [
       "array([[ 81, 233],\n",
       "       [468, 109]], dtype=int64)"
      ]
     },
     "execution_count": 17,
     "metadata": {},
     "output_type": "execute_result"
    }
   ],
   "source": [
    "entropy_x1.values"
   ]
  },
  {
   "cell_type": "code",
   "execution_count": 18,
   "metadata": {},
   "outputs": [
    {
     "data": {
      "text/plain": [
       "array([314, 577], dtype=int64)"
      ]
     },
     "execution_count": 18,
     "metadata": {},
     "output_type": "execute_result"
    }
   ],
   "source": [
    "# Sum of females, males\n",
    "entropy_x1.values.sum(axis=1)"
   ]
  },
  {
   "cell_type": "code",
   "execution_count": 19,
   "metadata": {},
   "outputs": [
    {
     "data": {
      "text/plain": [
       "891"
      ]
     },
     "execution_count": 19,
     "metadata": {},
     "output_type": "execute_result"
    }
   ],
   "source": [
    "# Total sum\n",
    "entropy_x1.values.sum()"
   ]
  },
  {
   "cell_type": "code",
   "execution_count": 16,
   "metadata": {},
   "outputs": [
    {
     "data": {
      "text/plain": [
       "(0.35241301907968575, 0.6475869809203143)"
      ]
     },
     "execution_count": 16,
     "metadata": {},
     "output_type": "execute_result"
    }
   ],
   "source": [
    "# As per the formulae above, \n",
    "# E(Survived, Gender) = P(Female) * E(Female) + P(Male) * E(Male)\n",
    "# E(Survived, Gender) = P(Female) * E(81,233) + P(Male) * E(468,109)\n",
    "p_female, p_male = entropy_x1.values.sum(axis=1)/entropy_x1.values.sum()\n",
    "p_female, p_male"
   ]
  },
  {
   "cell_type": "code",
   "execution_count": 20,
   "metadata": {},
   "outputs": [
    {
     "data": {
      "text/plain": [
       "array([ 81, 233], dtype=int64)"
      ]
     },
     "execution_count": 20,
     "metadata": {},
     "output_type": "execute_result"
    }
   ],
   "source": [
    "entropy_x1.values[0]"
   ]
  },
  {
   "cell_type": "code",
   "execution_count": 23,
   "metadata": {},
   "outputs": [
    {
     "data": {
      "text/plain": [
       "(0.25796178343949044, 0.7420382165605095)"
      ]
     },
     "execution_count": 23,
     "metadata": {},
     "output_type": "execute_result"
    }
   ],
   "source": [
    "p_fem_surv0, p_fem_surv1 = entropy_x1.values[0] / entropy_x1.values[0].sum()\n",
    "p_fem_surv0, p_fem_surv1"
   ]
  },
  {
   "cell_type": "code",
   "execution_count": 24,
   "metadata": {},
   "outputs": [
    {
     "data": {
      "text/plain": [
       "0.8236550739295191"
      ]
     },
     "execution_count": 24,
     "metadata": {},
     "output_type": "execute_result"
    }
   ],
   "source": [
    "entropy_fem = -p_fem_surv0 * math.log(p_fem_surv0,2) - p_fem_surv1 * math.log(p_fem_surv1,2)\n",
    "entropy_fem"
   ]
  },
  {
   "cell_type": "code",
   "execution_count": 26,
   "metadata": {},
   "outputs": [
    {
     "data": {
      "text/plain": [
       "(0.8110918544194108, 0.18890814558058924)"
      ]
     },
     "execution_count": 26,
     "metadata": {},
     "output_type": "execute_result"
    }
   ],
   "source": [
    "p_male_surv0, p_male_surv1 = entropy_x1.values[1] / entropy_x1.values[1].sum()\n",
    "p_male_surv0, p_male_surv1"
   ]
  },
  {
   "cell_type": "code",
   "execution_count": 27,
   "metadata": {},
   "outputs": [
    {
     "data": {
      "text/plain": [
       "0.6991817891208407"
      ]
     },
     "execution_count": 27,
     "metadata": {},
     "output_type": "execute_result"
    }
   ],
   "source": [
    "entropy_male = -p_male_surv0 * math.log(p_male_surv0,2) - p_male_surv1 * math.log(p_male_surv1,2)\n",
    "entropy_male"
   ]
  },
  {
   "cell_type": "code",
   "execution_count": 28,
   "metadata": {},
   "outputs": [
    {
     "data": {
      "text/plain": [
       "0.7430477952150327"
      ]
     },
     "execution_count": 28,
     "metadata": {},
     "output_type": "execute_result"
    }
   ],
   "source": [
    "entropy_survived_gender = p_female * entropy_fem + p_male * entropy_male\n",
    "entropy_survived_gender"
   ]
  },
  {
   "cell_type": "markdown",
   "metadata": {},
   "source": [
    "E(Survived, Gender) = 0.7430477952150327\n",
    "\n",
    "We did this for one X variable, we repease this for all X variables, and pick the X variable with the least \n",
    "entropy value"
   ]
  },
  {
   "cell_type": "markdown",
   "metadata": {},
   "source": [
    "<b> Now let's calculate Entropy for E(Survived,Fare)"
   ]
  },
  {
   "cell_type": "code",
   "execution_count": 33,
   "metadata": {},
   "outputs": [
    {
     "data": {
      "text/html": [
       "<div>\n",
       "<style scoped>\n",
       "    .dataframe tbody tr th:only-of-type {\n",
       "        vertical-align: middle;\n",
       "    }\n",
       "\n",
       "    .dataframe tbody tr th {\n",
       "        vertical-align: top;\n",
       "    }\n",
       "\n",
       "    .dataframe thead th {\n",
       "        text-align: right;\n",
       "    }\n",
       "</style>\n",
       "<table border=\"1\" class=\"dataframe\">\n",
       "  <thead>\n",
       "    <tr style=\"text-align: right;\">\n",
       "      <th>survived</th>\n",
       "      <th>0</th>\n",
       "      <th>1</th>\n",
       "    </tr>\n",
       "    <tr>\n",
       "      <th>fare</th>\n",
       "      <th></th>\n",
       "      <th></th>\n",
       "    </tr>\n",
       "  </thead>\n",
       "  <tbody>\n",
       "    <tr>\n",
       "      <td>0</td>\n",
       "      <td>464</td>\n",
       "      <td>216</td>\n",
       "    </tr>\n",
       "    <tr>\n",
       "      <td>1</td>\n",
       "      <td>85</td>\n",
       "      <td>126</td>\n",
       "    </tr>\n",
       "  </tbody>\n",
       "</table>\n",
       "</div>"
      ],
      "text/plain": [
       "survived    0    1\n",
       "fare              \n",
       "0         464  216\n",
       "1          85  126"
      ]
     },
     "execution_count": 33,
     "metadata": {},
     "output_type": "execute_result"
    }
   ],
   "source": [
    "#E(Survived,Fare)\n",
    "entropy_x1 = pd.crosstab(dataset['survived'],dataset['fare']).T\n",
    "entropy_x1"
   ]
  },
  {
   "cell_type": "code",
   "execution_count": 37,
   "metadata": {},
   "outputs": [
    {
     "data": {
      "text/plain": [
       "(0.7631874298540965, 0.23681257014590348)"
      ]
     },
     "execution_count": 37,
     "metadata": {},
     "output_type": "execute_result"
    }
   ],
   "source": [
    "p_fare0, p_fare1 = entropy_x1.values.sum(axis=1)/entropy_x1.values.sum()\n",
    "p_fare0, p_fare1"
   ]
  },
  {
   "cell_type": "code",
   "execution_count": 46,
   "metadata": {},
   "outputs": [
    {
     "data": {
      "text/plain": [
       "array([464, 216], dtype=int64)"
      ]
     },
     "execution_count": 46,
     "metadata": {},
     "output_type": "execute_result"
    }
   ],
   "source": [
    "entropy_x1.values[0]"
   ]
  },
  {
   "cell_type": "code",
   "execution_count": 47,
   "metadata": {},
   "outputs": [
    {
     "data": {
      "text/plain": [
       "array([ 85, 126], dtype=int64)"
      ]
     },
     "execution_count": 47,
     "metadata": {},
     "output_type": "execute_result"
    }
   ],
   "source": [
    "entropy_x1.values[1]"
   ]
  },
  {
   "cell_type": "code",
   "execution_count": 48,
   "metadata": {},
   "outputs": [],
   "source": [
    "p_fare0_surv0,p_fare0_surv1 = entropy_x1.values[0]/entropy_x1.values[0].sum()\n",
    "p_fare1_surv0,p_fare1_surv1 = entropy_x1.values[1]/entropy_x1.values[1].sum()"
   ]
  },
  {
   "cell_type": "code",
   "execution_count": 49,
   "metadata": {},
   "outputs": [
    {
     "data": {
      "text/plain": [
       "0.42367834531837956"
      ]
     },
     "execution_count": 49,
     "metadata": {},
     "output_type": "execute_result"
    }
   ],
   "source": [
    "e_fare0 = -p_fare0_surv0 * (p_fare0_surv0 * math.log(p_fare0_surv0,2)) - p_fare0_surv1 * (p_fare0_surv1 * math.log(p_fare0_surv1,2))\n",
    "e_fare0"
   ]
  },
  {
   "cell_type": "code",
   "execution_count": 50,
   "metadata": {},
   "outputs": [
    {
     "data": {
      "text/plain": [
       "0.4781107068404824"
      ]
     },
     "execution_count": 50,
     "metadata": {},
     "output_type": "execute_result"
    }
   ],
   "source": [
    "e_fare1 = -p_fare1_surv0 * (p_fare1_surv0 * math.log(p_fare1_surv0,2)) - p_fare1_surv1 * (p_fare1_surv1 * math.log(p_fare1_surv1,2))\n",
    "e_fare1"
   ]
  },
  {
   "cell_type": "code",
   "execution_count": 51,
   "metadata": {},
   "outputs": [
    {
     "data": {
      "text/plain": [
       "0.4365686127495397"
      ]
     },
     "execution_count": 51,
     "metadata": {},
     "output_type": "execute_result"
    }
   ],
   "source": [
    "e_surv_fare = p_fare0 * e_fare0 + p_fare1 * e_fare1\n",
    "e_surv_fare"
   ]
  },
  {
   "cell_type": "markdown",
   "metadata": {},
   "source": [
    "#### GINI Index\n",
    "\n",
    "Decision trees recursively split features with regard to their target variable’s “purity”. The entire algorithm is designed to optimize each split on maximizing purity… What is purity? Purity can be thought of as how homogenized the groupings are. You will see in some example below what I mean:\n",
    "\n",
    "    If we have 4 red gumballs and 0 blue gumballs, that group of 4 is 100% pure, based on color as the target.\n",
    "\n",
    "    If we have 2 red and 2 blue, that group is 100% impure.\n",
    "\n",
    "    If we have 3 red and 1 blue, that group is either 75% or 81% pure, if we use Gini or Entropy respectively.\n",
    "    \n",
    "GINI index can be used only when we have to do binary splits(2 child nodes for a parent). With information gain we can have more than binary splits. Formula is\n",
    "\n",
    "<img src='img/gini-02.png'/>\n",
    "\n",
    "According to Wikipedia, the goal of GINI index is to “measure how often a randomly chosen element from the set would be incorrectly labeled”\n",
    "\n",
    "let’s go back to the gumball examples. If we decided to arbitrarily label all 4 gumballs as red, how often would one of the gumballs be incorrectly labeled?\n",
    "\n",
    "<b>4 red and 0 blue:</b>\n",
    "<img src='img/gini-03.png'/>\n",
    "\n",
    "A gini score of 0 is the most pure score possible.\n",
    "\n",
    "The impurity measurement is 0 because we would never incorrectly label any of the 4 red gumballs here. If we arbitrarily chose to label all the balls ‘blue’, then our index would still be 0, because we would always incorrectly label the gumballs.\n",
    "\n",
    "<b>2 red and 2 blue:</b>\n",
    "<img src='img/gini-04.png'/>\n",
    "\n",
    "The impurity measurement is 0.5 because we would incorrectly label gumballs wrong about half the time. Because this index is used in binary target variables (0,1), a gini index of 0.5 is the least pure score possible. Half is one type and half is the other. Dividing gini scores by 0.5 can help intuitively understand what the score represents. 0.5/0.5 = 1, meaning the grouping is as impure as possible (in a group with just 2 outcomes).\n",
    "\n",
    "Formulae = 1 - (p^2 + q^2)\n",
    "\n",
    "q is nothing but 1-p\n",
    "\n",
    "<img src='img/gini-1.png'/>"
   ]
  },
  {
   "cell_type": "code",
   "execution_count": 8,
   "metadata": {},
   "outputs": [
    {
     "data": {
      "text/html": [
       "<div>\n",
       "<style scoped>\n",
       "    .dataframe tbody tr th:only-of-type {\n",
       "        vertical-align: middle;\n",
       "    }\n",
       "\n",
       "    .dataframe tbody tr th {\n",
       "        vertical-align: top;\n",
       "    }\n",
       "\n",
       "    .dataframe thead th {\n",
       "        text-align: right;\n",
       "    }\n",
       "</style>\n",
       "<table border=\"1\" class=\"dataframe\">\n",
       "  <thead>\n",
       "    <tr style=\"text-align: right;\">\n",
       "      <th></th>\n",
       "      <th>Red</th>\n",
       "      <th>Blue</th>\n",
       "      <th>Probability of Blue</th>\n",
       "      <th>Gini Score</th>\n",
       "      <th>Entropy</th>\n",
       "    </tr>\n",
       "  </thead>\n",
       "  <tbody>\n",
       "    <tr>\n",
       "      <td>0</td>\n",
       "      <td>0.060102</td>\n",
       "      <td>3.939898</td>\n",
       "      <td>0.984974</td>\n",
       "      <td>0.029600</td>\n",
       "      <td>0.112515</td>\n",
       "    </tr>\n",
       "    <tr>\n",
       "      <td>1</td>\n",
       "      <td>1.739830</td>\n",
       "      <td>2.260170</td>\n",
       "      <td>0.565043</td>\n",
       "      <td>0.491539</td>\n",
       "      <td>0.987759</td>\n",
       "    </tr>\n",
       "    <tr>\n",
       "      <td>2</td>\n",
       "      <td>3.531620</td>\n",
       "      <td>0.468380</td>\n",
       "      <td>0.117095</td>\n",
       "      <td>0.206768</td>\n",
       "      <td>0.520953</td>\n",
       "    </tr>\n",
       "    <tr>\n",
       "      <td>3</td>\n",
       "      <td>1.771062</td>\n",
       "      <td>2.228938</td>\n",
       "      <td>0.557235</td>\n",
       "      <td>0.493448</td>\n",
       "      <td>0.990527</td>\n",
       "    </tr>\n",
       "    <tr>\n",
       "      <td>4</td>\n",
       "      <td>1.750494</td>\n",
       "      <td>2.249506</td>\n",
       "      <td>0.562377</td>\n",
       "      <td>0.492218</td>\n",
       "      <td>0.988744</td>\n",
       "    </tr>\n",
       "    <tr>\n",
       "      <td>...</td>\n",
       "      <td>...</td>\n",
       "      <td>...</td>\n",
       "      <td>...</td>\n",
       "      <td>...</td>\n",
       "      <td>...</td>\n",
       "    </tr>\n",
       "    <tr>\n",
       "      <td>9995</td>\n",
       "      <td>3.423997</td>\n",
       "      <td>0.576003</td>\n",
       "      <td>0.144001</td>\n",
       "      <td>0.246529</td>\n",
       "      <td>0.594622</td>\n",
       "    </tr>\n",
       "    <tr>\n",
       "      <td>9996</td>\n",
       "      <td>1.244460</td>\n",
       "      <td>2.755540</td>\n",
       "      <td>0.688885</td>\n",
       "      <td>0.428645</td>\n",
       "      <td>0.894456</td>\n",
       "    </tr>\n",
       "    <tr>\n",
       "      <td>9997</td>\n",
       "      <td>0.312357</td>\n",
       "      <td>3.687643</td>\n",
       "      <td>0.921911</td>\n",
       "      <td>0.143983</td>\n",
       "      <td>0.395411</td>\n",
       "    </tr>\n",
       "    <tr>\n",
       "      <td>9998</td>\n",
       "      <td>2.078522</td>\n",
       "      <td>1.921478</td>\n",
       "      <td>0.480370</td>\n",
       "      <td>0.499229</td>\n",
       "      <td>0.998888</td>\n",
       "    </tr>\n",
       "    <tr>\n",
       "      <td>9999</td>\n",
       "      <td>0.565218</td>\n",
       "      <td>3.434782</td>\n",
       "      <td>0.858695</td>\n",
       "      <td>0.242675</td>\n",
       "      <td>0.587645</td>\n",
       "    </tr>\n",
       "  </tbody>\n",
       "</table>\n",
       "<p>10000 rows × 5 columns</p>\n",
       "</div>"
      ],
      "text/plain": [
       "           Red      Blue  Probability of Blue  Gini Score   Entropy\n",
       "0     0.060102  3.939898             0.984974    0.029600  0.112515\n",
       "1     1.739830  2.260170             0.565043    0.491539  0.987759\n",
       "2     3.531620  0.468380             0.117095    0.206768  0.520953\n",
       "3     1.771062  2.228938             0.557235    0.493448  0.990527\n",
       "4     1.750494  2.249506             0.562377    0.492218  0.988744\n",
       "...        ...       ...                  ...         ...       ...\n",
       "9995  3.423997  0.576003             0.144001    0.246529  0.594622\n",
       "9996  1.244460  2.755540             0.688885    0.428645  0.894456\n",
       "9997  0.312357  3.687643             0.921911    0.143983  0.395411\n",
       "9998  2.078522  1.921478             0.480370    0.499229  0.998888\n",
       "9999  0.565218  3.434782             0.858695    0.242675  0.587645\n",
       "\n",
       "[10000 rows x 5 columns]"
      ]
     },
     "execution_count": 8,
     "metadata": {},
     "output_type": "execute_result"
    }
   ],
   "source": [
    "import random\n",
    "import pandas as pd\n",
    "from math import log\n",
    "#Gini Function\n",
    "#a and b are the quantities of each class\n",
    "def gini(a,b):\n",
    "    a1 = (a/(a+b))**2\n",
    "    b1 = (b/(a+b))**2\n",
    "    return 1 - (a1 + b1)\n",
    "\n",
    "def entropy(base,a,b):\n",
    "    try:\n",
    "        var =  abs(((a)/(a+b)) * log(((a)/(a+b)),base)) - (((b)/(a+b)) * log(((b)/(a+b)),base))\n",
    "        return var\n",
    "    except (ValueError):\n",
    "        return 0#Blank lists\n",
    "\n",
    "#Blank lists\n",
    "gini_list = []\n",
    "ent_list = []\n",
    "blue_list = []\n",
    "red_list = []\n",
    "blue_prob_list = []#Looping Gini function on random blue and red float amounts\n",
    "for x in range (10000):\n",
    "    blue = random.uniform(0, 4)\n",
    "    red = abs(4-blue)\n",
    "    a_g = gini(red,blue)\n",
    "    a_e = entropy(2,red,blue)\n",
    "    b = blue/(blue+red)\n",
    "    gini_list.append(a_g)\n",
    "    ent_list.append(a_e)\n",
    "    blue_list.append(blue)\n",
    "    red_list.append(red)\n",
    "    blue_prob_list.append(b)#Dataframe of amount of blue, red, Probability of blue, and gini score\n",
    "\n",
    "df = pd.DataFrame({'Blue': blue_list, 'Red': red_list,'Gini Score': gini_list, 'Entropy': ent_list, 'Probability of Blue': blue_prob_list})\n",
    "df = df[['Red', 'Blue', 'Probability of Blue', 'Gini Score','Entropy']]\n",
    "df"
   ]
  },
  {
   "cell_type": "code",
   "execution_count": 9,
   "metadata": {},
   "outputs": [
    {
     "data": {
      "text/plain": [
       "Text(0.5, 1.0, 'Gini Curve')"
      ]
     },
     "execution_count": 9,
     "metadata": {},
     "output_type": "execute_result"
    },
    {
     "data": {
      "image/png": "[encoded data removed]",
      "text/plain": [
       "<Figure size 432x288 with 1 Axes>"
      ]
     },
     "metadata": {
      "needs_background": "light"
     },
     "output_type": "display_data"
    }
   ],
   "source": [
    "import matplotlib.pyplot as plt\n",
    "plt.scatter(blue_prob_list,gini_list)\n",
    "plt.xlabel('Probability of Blue Gumball %')\n",
    "plt.ylabel('Gini')\n",
    "plt.title('Gini Curve')"
   ]
  },
  {
   "cell_type": "code",
   "execution_count": 10,
   "metadata": {},
   "outputs": [
    {
     "data": {
      "text/plain": [
       "Text(0.5, 1.0, 'Entropy Curve')"
      ]
     },
     "execution_count": 10,
     "metadata": {},
     "output_type": "execute_result"
    },
    {
     "data": {
      "image/png": "[encoded data removed]",
      "text/plain": [
       "<Figure size 432x288 with 1 Axes>"
      ]
     },
     "metadata": {
      "needs_background": "light"
     },
     "output_type": "display_data"
    }
   ],
   "source": [
    "plt.scatter(blue_prob_list,ent_list)\n",
    "plt.xlabel('Probability of Blue Gumball %')\n",
    "plt.ylabel('Entropy')\n",
    "plt.title('Entropy Curve')"
   ]
  },
  {
   "cell_type": "markdown",
   "metadata": {},
   "source": [
    "## Random Forest Classification\n",
    "\n",
    "Random forest, like its name implies, consists of a large number of individual decision trees that operate as an ensemble. Each individual tree in the random forest spits out a class prediction and the class with the most votes becomes our model’s prediction\n",
    "\n",
    "<img src='img/rf-01.jpeg' />\n",
    "\n",
    "Random forest builds multiple decision trees, \n",
    "\n",
    "- each tree uses repeated data from the training set\n",
    "- each tree also will have random set of features\n",
    "\n",
    "Consider the below dataset,\n",
    "<img src='img/dt-3.png' />\n",
    "\n",
    "We divide the input dataset into multiple samples. In the above dataset, you can see the row r6 is part of all 3 samples. Samples can be taken row level or column level(take x1,x2,x3 and y)\n",
    "\n",
    "We run decision tree on each of the samples and see how the y variable is classified.\n",
    "\n",
    "We do majority voting and choose the final prediction as the one said by the majority (for this reason we usually go for odd number of occurrences so that a clear majority comes out)\n",
    "\n",
    "This technique is called Random Forest. Random Forest is a <b> Bagging </b> technique\n",
    "\n",
    "Step 1 of the Random Forest model building is to create the bootstrap data set\n",
    "\n",
    "While picking the data for the models, we choose to avoid picking a few rows , these rows are called out of the bag samples. This OOB samples will be used for testing the models and accuracy will be checked for.\n",
    "\n",
    "Step 2 Create a decision tree using the bootstrapped dataset, but only use a random subset of variables(columns) at each step\n",
    "\n",
    "Step 3 We repeat Steps 1 & 2 and build quite a lot of decision trees\n",
    "\n",
    "Step 4 Use Out of bag data samples to test the accuracy of the model"
   ]
  },
  {
   "cell_type": "markdown",
   "metadata": {},
   "source": [
    "## Bootstrapping\n",
    "To understand bootstrap, suppose it were possible to draw repeated samples (of the same size) from the population of interest, a large number of times. Then, one would get a fairly good idea about the sampling distribution of a particular statistic from the collection of its values arising from these repeated samples. The idea behind bootstrap is to use the data of a sample study at hand as a “surrogate population”, for the purpose of approximating the sampling distribution of a statistic; i.e. to resample (with replacement) from the sample data at hand and create a large number of “phantom samples” known as bootstrap samples.\n",
    "In other words, We randomly sample with replacement from the n known observations. We then call this a bootstrap sample. Since we allow for replacement, this bootstrap sample most likely not identical to our initial sample. Some data points may be duplicated, and others data points from the initial may be omitted in a bootstrap sample.\n",
    "An Example:\n",
    "The following numerical example will help to demonstrate how the process works. If we begin with the sample 2, 4, 5, 6, 6, then all of the following are possible bootstrap samples:\n",
    "\n",
    "    2 ,5, 5, 6, 6\n",
    "    4, 5, 6, 6, 6\n",
    "    2, 2, 4, 5, 5\n",
    "    2, 2, 2, 4, 6\n",
    "    2, 2, 2, 2, 2\n",
    "    4, 6, 6, 6, 6"
   ]
  },
  {
   "cell_type": "markdown",
   "metadata": {},
   "source": [
    "## Bagging Classification\n",
    "\n",
    "<img src='img/bag-boost.png' /> \n",
    "\n",
    "In Bagging we run multiple algorithms parallely and then make a decision from the outputs.\n",
    "\n",
    "In Boosting, we run multiple algorithms sequentially. Output of first algorithm will be fed as input to the next and so on.\n",
    "\n",
    "Bagging is an approach to ensemble learning that is based on bootstrapping. In short, given a training set, we produce multiple different training sets (called bootstrap samples), by sampling with replacement from the original dataset. Then, for each bootstrap sample, we build a model. The results in an ensemble of models, where each model votes with the equal weight. Typically, the goal of this procedure is to reduce the variance of the model of interest (e.g. decision trees).\n",
    "\n",
    "<b> Advantages of Bagging techniques includes </b>\n",
    "\n",
    "Improving the stability and accuracy of machine learning algorithms used in statistical classification and regression. \n",
    "\n",
    "It also reduces variance and helps to avoid overfitting. \n",
    "\n",
    "Although it is usually applied to decision tree methods, it can be used with any type of method."
   ]
  },
  {
   "cell_type": "markdown",
   "metadata": {},
   "source": [
    "## Recording\n",
    "\n",
    "https://drive.google.com/drive/folders/14wmJ6qDqLQb63PMVdaGf1QqppjWeZcD_\n",
    "\n",
    "## References\n",
    "\n",
    "https://towardsdatascience.com/entropy-how-decision-trees-make-decisions-2946b9c18c8\n",
    "\n",
    "https://towardsdatascience.com/gini-index-vs-information-entropy-7a7e4fed3fcb\n",
    "\n",
    "https://medium.com/datadriveninvestor/tree-algorithms-id3-c4-5-c5-0-and-cart-413387342164"
   ]
  }
 ],
 "metadata": {
  "hide_input": false,
  "kernelspec": {
   "display_name": "Python 3",
   "language": "python",
   "name": "python3"
  },
  "language_info": {
   "codemirror_mode": {
    "name": "ipython",
    "version": 3
   },
   "file_extension": ".py",
   "mimetype": "text/x-python",
   "name": "python",
   "nbconvert_exporter": "python",
   "pygments_lexer": "ipython3",
   "version": "3.7.4"
  },
  "toc": {
   "base_numbering": 1,
   "nav_menu": {},
   "number_sections": true,
   "sideBar": true,
   "skip_h1_title": false,
   "title_cell": "Table of Contents",
   "title_sidebar": "Contents",
   "toc_cell": false,
   "toc_position": {
    "height": "calc(100% - 180px)",
    "left": "10px",
    "top": "150px",
    "width": "193.2px"
   },
   "toc_section_display": true,
   "toc_window_display": true
  }
 },
 "nbformat": 4,
 "nbformat_minor": 2
}
