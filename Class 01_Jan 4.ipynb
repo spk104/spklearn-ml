{
 "cells": [
  {
   "cell_type": "markdown",
   "metadata": {},
   "source": [
    "<h1> Day 1 - Class </h1>"
   ]
  },
  {
   "cell_type": "markdown",
   "metadata": {},
   "source": [
    "## Data Science\n",
    "- Machine Learning algorithms\n",
    "- Natural Language Processing algorithms\n",
    "- Artificial Intelligence algorithms"
   ]
  },
  {
   "cell_type": "markdown",
   "metadata": {},
   "source": [
    "### Softwares\n",
    "\n",
    "<b>Anaconda</b>\n",
    "\n",
    "Comes with lot of standard packages pre-installed\n",
    "\n",
    "<b>Spyder</b>\n",
    "\n",
    "Desktop based IDE\n",
    "\n",
    "<b>Jupyter Notebook</b>\n",
    "\n",
    "Browser based IDE (supports Julia, R, Python etc.. )"
   ]
  },
  {
   "cell_type": "markdown",
   "metadata": {},
   "source": [
    "### Jupyter Notebook\n",
    "\n",
    "Jupyter is a loose acronym meaning Julia, Python, and R. These programming languages were the first target languages of the Jupyter application, but nowadays, the notebook technology also supports many other languages.\n",
    "\n",
    "In 2001, Fernando Pérez started developing Ipython. IPython is a command shell for interactive computing in multiple programming languages, originally developed for the Python.\n",
    "\n",
    "Consider the following features provided by IPython −\n",
    "\n",
    "1) Interactive shells (terminal and Qt-based).\n",
    "\n",
    "2) A browser-based notebook with support for code, text, mathematical expressions, inline plots and other media.\n",
    "\n",
    "3) Support for interactive data visualization and use of GUI toolkits.\n",
    "\n",
    "4) Flexible, embeddable interpreters to load into one's own projects.\n",
    "\n",
    "In 2014, Fernando Pérez announced a spin-off project from IPython called Project Jupyter. IPython will continue to exist as a Python shell and a kernel for Jupyter, while the notebook and other language-agnostic parts of IPython will move under the Jupyter name. Jupyter added support for Julia, R, Haskell and Ruby.\n",
    "\n",
    "Shortcuts\n",
    "\n",
    "- <b>B</b> - add a new row below\n",
    "\n",
    "- <b>A</b> - add a new row above\n",
    "\n",
    "- <b>D , X</b> - to delete a row\n",
    "\n",
    "- <b>CTRL + Enter</b> - execute a command\n",
    "\n",
    "- <b>SHIFT + m</b> - by selecting multiple cells merges all the selected cells to one\n",
    "\n",
    "- <b>Tab</b> - When you type something and clicks 'tab' it tries to auto complete\n",
    "\n",
    "- <b>Shift + Tab</b> - on a method shows the docstring of the method\n",
    "\n",
    "It follows literature programming.\n",
    "\n",
    "When you save a notebook you ge the '.ipynb' extension -> It stands for Interactive Python Notebook. \n",
    "\n",
    "Towards the left of each cell you could see something like, \n",
    "\n",
    "<b>In [4]: pwd </b>\n",
    "\n",
    "This means, in this session the command pwd was fired as the 4th command , if you fire the same once again it will show [5] and so on. Once you restart the kernel, it will be reset to 0. \n",
    "\n",
    "<b>In [*]:</b> \n",
    "\n",
    "means the cell is under execution, it's preferred to wait when we see this.\n",
    "\n",
    "### Python \n",
    "\n",
    "- Lot of packages available\n",
    "- Active community support\n",
    "- One programming language for,\n",
    "    - Web (Django, Flask)\n",
    "    - Mobile(Kivy)\n",
    "    - MachineLearning\n",
    "- Python is extremely easy and readable"
   ]
  },
  {
   "cell_type": "markdown",
   "metadata": {},
   "source": [
    "### Install a new package\n",
    "\n",
    "For installing a new package type the command <b>pip install plotly</b> in Anaconda prompt. You could also fire this command from Jupyter Notebook, but Anaconda prompt is the prefferred way as there is no size limit while downloading the package."
   ]
  },
  {
   "cell_type": "markdown",
   "metadata": {},
   "source": [
    "### Normal Unix commands and math operations will work in Jupyter Notebook"
   ]
  },
  {
   "cell_type": "markdown",
   "metadata": {},
   "source": [
    "#### Unix Functions"
   ]
  },
  {
   "cell_type": "code",
   "execution_count": 36,
   "metadata": {},
   "outputs": [
    {
     "data": {
      "text/plain": [
       "'D:\\\\sanooj\\\\datascience\\\\notebooks\\\\spklearn-ml'"
      ]
     },
     "execution_count": 36,
     "metadata": {},
     "output_type": "execute_result"
    }
   ],
   "source": [
    "pwd"
   ]
  },
  {
   "cell_type": "code",
   "execution_count": 37,
   "metadata": {},
   "outputs": [
    {
     "name": "stdout",
     "output_type": "stream",
     "text": [
      " Volume in drive D is LENOVO\n",
      " Volume Serial Number is E48E-8B0A\n",
      "\n",
      " Directory of D:\\sanooj\\datascience\\notebooks\\spklearn-ml\n",
      "\n",
      "03-05-2020  11:17    <DIR>          .\n",
      "03-05-2020  11:17    <DIR>          ..\n",
      "02-05-2020  11:45    <DIR>          .ipynb_checkpoints\n",
      "01-03-2020  10:22    <DIR>          __pycache__\n",
      "03-05-2020  11:17            25,224 Class 01_Jan 4.ipynb\n",
      "12-02-2020  22:47            18,011 Class 02_Jan 5.ipynb\n",
      "12-02-2020  22:47            49,672 Class 03_Jan 11.ipynb\n",
      "12-02-2020  22:47            44,750 Class 04_Jan 12.ipynb\n",
      "12-02-2020  22:47             7,401 Class 06_Jan 19.ipynb\n",
      "12-02-2020  22:47            31,276 Class 07_Jan 25.ipynb\n",
      "12-02-2020  22:47            95,413 Class 08_Feb 01.ipynb\n",
      "12-02-2020  22:47           128,983 Class 09_Feb 02 (Practice).ipynb\n",
      "12-02-2020  22:47            42,242 Class 09_Feb 02.ipynb\n",
      "12-02-2020  22:47            45,408 Class 10_Feb 08(Practice).ipynb\n",
      "14-02-2020  21:48           188,509 Class 10_Feb 08.ipynb\n",
      "13-02-2020  22:29            55,134 Class 11_Feb 09.ipynb\n",
      "21-02-2020  22:56            88,730 Class 12_Feb 15(Kaggle_Survey).ipynb\n",
      "15-02-2020  13:50            36,234 Class 12_Feb 15.ipynb\n",
      "23-02-2020  09:25           221,821 Class 13_Feb 22(Iot Device Network Logs).ipynb\n",
      "22-02-2020  14:22         1,428,704 Class 13_Feb 22.ipynb\n",
      "01-03-2020  12:29           220,088 Class 14_Feb 23(Automobile Dataset).ipynb\n",
      "01-03-2020  20:27            10,536 Class 15_Feb 29.ipynb\n",
      "01-03-2020  19:33            19,554 Class 16_Mar 01.ipynb\n",
      "08-03-2020  14:02             9,431 Class 17_Mar07(Rossmann-store-sales).ipynb\n",
      "08-03-2020  14:02           383,029 Class 17_Mar07.ipynb\n",
      "29-03-2020  21:19               858 Class 18_Mar08.ipynb\n",
      "29-03-2020  21:15            33,743 Class 19_Mar 21.ipynb\n",
      "29-03-2020  20:54             4,693 Class 20_Mar 28.ipynb\n",
      "25-04-2020  22:17           169,508 Class 21_Mar 29(house price).ipynb\n",
      "14-04-2020  18:24           180,910 Class 21_Mar 29.ipynb\n",
      "05-04-2020  13:26            19,044 Class 22_Apr04.ipynb\n",
      "10-04-2020  23:32             7,625 Class 23_Apr05.ipynb\n",
      "02-05-2020  19:58            69,120 Class 24_Apr11.ipynb\n",
      "20-04-2020  22:30            36,870 Class 25_Apr 11.ipynb\n",
      "21-04-2020  23:21            81,716 Class 26_Apr18.ipynb\n",
      "26-04-2020  01:17        40,920,254 Class 27_Apr19(home-credit-default-risk).ipynb\n",
      "25-04-2020  21:50             6,330 Class 28_Apr25.ipynb\n",
      "02-05-2020  22:47            12,767 Class 29_May02.ipynb\n",
      "01-05-2020  23:40    <DIR>          feature_engineering\n",
      "01-03-2020  10:20                52 func_test.py\n",
      "02-05-2020  22:20    <DIR>          img\n",
      "02-05-2020  16:12    <DIR>          metrics\n",
      "01-03-2020  10:26    <DIR>          module_test\n",
      "26-04-2020  00:23    <DIR>          plots\n",
      "25-04-2020  22:32         2,072,022 Practice_01.ipynb\n",
      "02-05-2020  19:52         2,123,478 Practice_02.ipynb\n",
      "25-04-2020  23:53    <DIR>          preprocessing\n",
      "02-05-2020  22:36               176 README.md\n",
      "12-02-2020  22:47            72,331 working_with_groupby_date_8th_feb_2020.ipynb\n",
      "              39 File(s)     48,961,647 bytes\n",
      "              10 Dir(s)  11,392,442,368 bytes free\n"
     ]
    }
   ],
   "source": [
    "ls"
   ]
  },
  {
   "cell_type": "markdown",
   "metadata": {},
   "source": [
    "#### Math Operations"
   ]
  },
  {
   "cell_type": "code",
   "execution_count": 38,
   "metadata": {},
   "outputs": [
    {
     "data": {
      "text/plain": [
       "8"
      ]
     },
     "execution_count": 38,
     "metadata": {},
     "output_type": "execute_result"
    }
   ],
   "source": [
    "3+5"
   ]
  },
  {
   "cell_type": "code",
   "execution_count": 39,
   "metadata": {},
   "outputs": [
    {
     "data": {
      "text/plain": [
       "4"
      ]
     },
     "execution_count": 39,
     "metadata": {},
     "output_type": "execute_result"
    }
   ],
   "source": [
    "7-3"
   ]
  },
  {
   "cell_type": "code",
   "execution_count": 40,
   "metadata": {},
   "outputs": [
    {
     "data": {
      "text/plain": [
       "10"
      ]
     },
     "execution_count": 40,
     "metadata": {},
     "output_type": "execute_result"
    }
   ],
   "source": [
    "2 * 5"
   ]
  },
  {
   "cell_type": "code",
   "execution_count": 41,
   "metadata": {},
   "outputs": [
    {
     "data": {
      "text/plain": [
       "3.0"
      ]
     },
     "execution_count": 41,
     "metadata": {},
     "output_type": "execute_result"
    }
   ],
   "source": [
    "24/8"
   ]
  },
  {
   "cell_type": "markdown",
   "metadata": {},
   "source": [
    "#### Data Types"
   ]
  },
  {
   "cell_type": "markdown",
   "metadata": {},
   "source": [
    "Datatypes available are -> <b>int, float, str</b>. Python can dynamically detect the datatype without having to explicitly define it so. i.e Python is a forward reference language."
   ]
  },
  {
   "cell_type": "code",
   "execution_count": 42,
   "metadata": {},
   "outputs": [
    {
     "data": {
      "text/plain": [
       "int"
      ]
     },
     "execution_count": 42,
     "metadata": {},
     "output_type": "execute_result"
    }
   ],
   "source": [
    "a=2\n",
    "type(a)"
   ]
  },
  {
   "cell_type": "code",
   "execution_count": 43,
   "metadata": {},
   "outputs": [
    {
     "data": {
      "text/plain": [
       "float"
      ]
     },
     "execution_count": 43,
     "metadata": {},
     "output_type": "execute_result"
    }
   ],
   "source": [
    "a=2.6\n",
    "type(a)"
   ]
  },
  {
   "cell_type": "code",
   "execution_count": 44,
   "metadata": {},
   "outputs": [
    {
     "data": {
      "text/plain": [
       "str"
      ]
     },
     "execution_count": 44,
     "metadata": {},
     "output_type": "execute_result"
    }
   ],
   "source": [
    "a='Sanooj'\n",
    "type(a)"
   ]
  },
  {
   "cell_type": "code",
   "execution_count": 45,
   "metadata": {},
   "outputs": [
    {
     "data": {
      "text/plain": [
       "str"
      ]
     },
     "execution_count": 45,
     "metadata": {},
     "output_type": "execute_result"
    }
   ],
   "source": [
    "a=\"Sanooj\"\n",
    "type(a)"
   ]
  },
  {
   "cell_type": "code",
   "execution_count": 46,
   "metadata": {},
   "outputs": [
    {
     "data": {
      "text/plain": [
       "'a'"
      ]
     },
     "execution_count": 46,
     "metadata": {},
     "output_type": "execute_result"
    }
   ],
   "source": [
    "a[1]"
   ]
  },
  {
   "cell_type": "code",
   "execution_count": 47,
   "metadata": {},
   "outputs": [
    {
     "data": {
      "text/plain": [
       "'S'"
      ]
     },
     "execution_count": 47,
     "metadata": {},
     "output_type": "execute_result"
    }
   ],
   "source": [
    "a[0]"
   ]
  },
  {
   "cell_type": "markdown",
   "metadata": {},
   "source": [
    "-1 is the last index"
   ]
  },
  {
   "cell_type": "code",
   "execution_count": 48,
   "metadata": {},
   "outputs": [
    {
     "data": {
      "text/plain": [
       "'j'"
      ]
     },
     "execution_count": 48,
     "metadata": {},
     "output_type": "execute_result"
    }
   ],
   "source": [
    "a[-1]"
   ]
  },
  {
   "cell_type": "markdown",
   "metadata": {},
   "source": [
    "Gets the items at position 3 to 5. Indices start at 0"
   ]
  },
  {
   "cell_type": "code",
   "execution_count": 49,
   "metadata": {},
   "outputs": [
    {
     "data": {
      "text/plain": [
       "'ooj'"
      ]
     },
     "execution_count": 49,
     "metadata": {},
     "output_type": "execute_result"
    }
   ],
   "source": [
    "a[3:6]"
   ]
  },
  {
   "cell_type": "markdown",
   "metadata": {},
   "source": [
    "#### String Functions"
   ]
  },
  {
   "cell_type": "code",
   "execution_count": 50,
   "metadata": {},
   "outputs": [],
   "source": [
    "# For viewing multiple output lines from one cell import the following\n",
    "from IPython.core.interactiveshell import InteractiveShell\n",
    "InteractiveShell.ast_node_interactivity='all'"
   ]
  },
  {
   "cell_type": "code",
   "execution_count": 51,
   "metadata": {},
   "outputs": [
    {
     "data": {
      "text/plain": [
       "'SANOOJ'"
      ]
     },
     "execution_count": 51,
     "metadata": {},
     "output_type": "execute_result"
    },
    {
     "data": {
      "text/plain": [
       "'sanooj'"
      ]
     },
     "execution_count": 51,
     "metadata": {},
     "output_type": "execute_result"
    },
    {
     "data": {
      "text/plain": [
       "False"
      ]
     },
     "execution_count": 51,
     "metadata": {},
     "output_type": "execute_result"
    },
    {
     "data": {
      "text/plain": [
       "False"
      ]
     },
     "execution_count": 51,
     "metadata": {},
     "output_type": "execute_result"
    },
    {
     "data": {
      "text/plain": [
       "'Sanooj'"
      ]
     },
     "execution_count": 51,
     "metadata": {},
     "output_type": "execute_result"
    }
   ],
   "source": [
    "a.upper()\n",
    "\n",
    "a.lower()\n",
    "\n",
    "a.islower()\n",
    "\n",
    "a.isupper()\n",
    "\n",
    "a.capitalize()"
   ]
  },
  {
   "cell_type": "code",
   "execution_count": 52,
   "metadata": {},
   "outputs": [
    {
     "data": {
      "text/plain": [
       "True"
      ]
     },
     "execution_count": 52,
     "metadata": {},
     "output_type": "execute_result"
    },
    {
     "data": {
      "text/plain": [
       "False"
      ]
     },
     "execution_count": 52,
     "metadata": {},
     "output_type": "execute_result"
    },
    {
     "data": {
      "text/plain": [
       "True"
      ]
     },
     "execution_count": 52,
     "metadata": {},
     "output_type": "execute_result"
    },
    {
     "data": {
      "text/plain": [
       "True"
      ]
     },
     "execution_count": 52,
     "metadata": {},
     "output_type": "execute_result"
    },
    {
     "data": {
      "text/plain": [
       "True"
      ]
     },
     "execution_count": 52,
     "metadata": {},
     "output_type": "execute_result"
    },
    {
     "data": {
      "text/plain": [
       "True"
      ]
     },
     "execution_count": 52,
     "metadata": {},
     "output_type": "execute_result"
    },
    {
     "data": {
      "text/plain": [
       "True"
      ]
     },
     "execution_count": 52,
     "metadata": {},
     "output_type": "execute_result"
    }
   ],
   "source": [
    "a = 'Sanooj'\n",
    "\n",
    "a.endswith('j')\n",
    "\n",
    "a.startswith(\"a\")\n",
    "\n",
    "a.isalpha()\n",
    "\n",
    "a.isalnum()\n",
    "\n",
    "a = '123'\n",
    "a.isalnum()\n",
    "\n",
    "a.isdigit()\n",
    "\n",
    "a = 'DataScience123'\n",
    "a.isalnum()"
   ]
  },
  {
   "cell_type": "code",
   "execution_count": 53,
   "metadata": {},
   "outputs": [
    {
     "data": {
      "text/plain": [
       "'dxxtxx sciencexx'"
      ]
     },
     "execution_count": 53,
     "metadata": {},
     "output_type": "execute_result"
    },
    {
     "data": {
      "text/plain": [
       "['data', 'sciencea']"
      ]
     },
     "execution_count": 53,
     "metadata": {},
     "output_type": "execute_result"
    },
    {
     "data": {
      "text/plain": [
       "['d', 't', ' science', '']"
      ]
     },
     "execution_count": 53,
     "metadata": {},
     "output_type": "execute_result"
    },
    {
     "data": {
      "text/plain": [
       "3"
      ]
     },
     "execution_count": 53,
     "metadata": {},
     "output_type": "execute_result"
    },
    {
     "data": {
      "text/plain": [
       "2"
      ]
     },
     "execution_count": 53,
     "metadata": {},
     "output_type": "execute_result"
    },
    {
     "data": {
      "text/plain": [
       "1"
      ]
     },
     "execution_count": 53,
     "metadata": {},
     "output_type": "execute_result"
    },
    {
     "data": {
      "text/plain": [
       "1"
      ]
     },
     "execution_count": 53,
     "metadata": {},
     "output_type": "execute_result"
    },
    {
     "data": {
      "text/plain": [
       "2"
      ]
     },
     "execution_count": 53,
     "metadata": {},
     "output_type": "execute_result"
    },
    {
     "data": {
      "text/plain": [
       "3"
      ]
     },
     "execution_count": 53,
     "metadata": {},
     "output_type": "execute_result"
    }
   ],
   "source": [
    "a = \"data sciencea\"\n",
    "a.replace('a', 'xx')\n",
    "\n",
    "a.split()\n",
    "\n",
    "a.split('a')\n",
    "\n",
    "a.count('a')\n",
    "\n",
    "a.count('a',2)\n",
    "\n",
    "a.count('a',4)\n",
    "\n",
    "a.count('a',2,8)\n",
    "\n",
    "b = 'aaa'\n",
    "b.count('a',-4,-1)\n",
    "\n",
    "b = 'aaa'\n",
    "b.count('a',0,3)"
   ]
  },
  {
   "cell_type": "code",
   "execution_count": 54,
   "metadata": {},
   "outputs": [
    {
     "data": {
      "text/plain": [
       "'*** data science ***'"
      ]
     },
     "execution_count": 54,
     "metadata": {},
     "output_type": "execute_result"
    },
    {
     "data": {
      "text/plain": [
       "'data science'"
      ]
     },
     "execution_count": 54,
     "metadata": {},
     "output_type": "execute_result"
    },
    {
     "data": {
      "text/plain": [
       "'data science '"
      ]
     },
     "execution_count": 54,
     "metadata": {},
     "output_type": "execute_result"
    },
    {
     "data": {
      "text/plain": [
       "' data science'"
      ]
     },
     "execution_count": 54,
     "metadata": {},
     "output_type": "execute_result"
    },
    {
     "data": {
      "text/plain": [
       "' data scienc'"
      ]
     },
     "execution_count": 54,
     "metadata": {},
     "output_type": "execute_result"
    }
   ],
   "source": [
    "a = ' data science '\n",
    "a.center(20, '*')\n",
    "\n",
    "a.strip()\n",
    "\n",
    "a.lstrip()\n",
    "\n",
    "a.rstrip()\n",
    "\n",
    "a.rstrip(' e')"
   ]
  },
  {
   "cell_type": "code",
   "execution_count": 55,
   "metadata": {},
   "outputs": [
    {
     "data": {
      "text/plain": [
       "b'\\xff\\xfed\\x00a\\x00t\\x00a\\x00 \\x00s\\x00c\\x00i\\x00e\\x00n\\x00c\\x00e\\x00'"
      ]
     },
     "execution_count": 55,
     "metadata": {},
     "output_type": "execute_result"
    },
    {
     "data": {
      "text/plain": [
       "'data science'"
      ]
     },
     "execution_count": 55,
     "metadata": {},
     "output_type": "execute_result"
    },
    {
     "data": {
      "text/plain": [
       "(1, 1, -1)"
      ]
     },
     "execution_count": 55,
     "metadata": {},
     "output_type": "execute_result"
    },
    {
     "data": {
      "text/plain": [
       "3"
      ]
     },
     "execution_count": 55,
     "metadata": {},
     "output_type": "execute_result"
    }
   ],
   "source": [
    "a = 'data science'\n",
    "a.encode('utf-16')\n",
    "\n",
    "a.encode('utf-16').decode('utf-16')\n",
    "\n",
    "a.find('a'),a.find('a',1),a.find('a',5,8)\n",
    "\n",
    "a = 'sanooj'\n",
    "a.find('o')"
   ]
  },
  {
   "cell_type": "code",
   "execution_count": 56,
   "metadata": {},
   "outputs": [
    {
     "data": {
      "text/plain": [
       "6"
      ]
     },
     "execution_count": 56,
     "metadata": {},
     "output_type": "execute_result"
    },
    {
     "data": {
      "text/plain": [
       "'a'"
      ]
     },
     "execution_count": 56,
     "metadata": {},
     "output_type": "execute_result"
    },
    {
     "data": {
      "text/plain": [
       "'s'"
      ]
     },
     "execution_count": 56,
     "metadata": {},
     "output_type": "execute_result"
    }
   ],
   "source": [
    "len(a)\n",
    "\n",
    "min(a)\n",
    "\n",
    "max(a)"
   ]
  },
  {
   "cell_type": "markdown",
   "metadata": {},
   "source": [
    "#### Math Functions"
   ]
  },
  {
   "cell_type": "code",
   "execution_count": 57,
   "metadata": {},
   "outputs": [],
   "source": [
    "import math"
   ]
  },
  {
   "cell_type": "code",
   "execution_count": 58,
   "metadata": {},
   "outputs": [
    {
     "data": {
      "text/plain": [
       "9.0"
      ]
     },
     "execution_count": 58,
     "metadata": {},
     "output_type": "execute_result"
    }
   ],
   "source": [
    "a = 81\n",
    "math.sqrt(a)"
   ]
  },
  {
   "cell_type": "code",
   "execution_count": 59,
   "metadata": {},
   "outputs": [
    {
     "data": {
      "text/plain": [
       "(-0.6298879942744539, 7.530486572925153e+34)"
      ]
     },
     "execution_count": 59,
     "metadata": {},
     "output_type": "execute_result"
    }
   ],
   "source": [
    "math.sin(a), math.sinh(a)"
   ]
  },
  {
   "cell_type": "code",
   "execution_count": 60,
   "metadata": {},
   "outputs": [
    {
     "data": {
      "text/plain": [
       "(2.718281828459045, 3.141592653589793)"
      ]
     },
     "execution_count": 60,
     "metadata": {},
     "output_type": "execute_result"
    }
   ],
   "source": [
    "math.e , math.pi"
   ]
  },
  {
   "cell_type": "code",
   "execution_count": 61,
   "metadata": {},
   "outputs": [
    {
     "data": {
      "text/plain": [
       "(7.38905609893065, 6.38905609893065)"
      ]
     },
     "execution_count": 61,
     "metadata": {},
     "output_type": "execute_result"
    }
   ],
   "source": [
    "math.exp(2), math.expm1(2)"
   ]
  },
  {
   "cell_type": "code",
   "execution_count": 62,
   "metadata": {},
   "outputs": [
    {
     "data": {
      "text/plain": [
       "3"
      ]
     },
     "execution_count": 62,
     "metadata": {},
     "output_type": "execute_result"
    }
   ],
   "source": [
    "a = 2.6\n",
    "math.ceil(a)"
   ]
  },
  {
   "cell_type": "code",
   "execution_count": 63,
   "metadata": {},
   "outputs": [
    {
     "data": {
      "text/plain": [
       "2"
      ]
     },
     "execution_count": 63,
     "metadata": {},
     "output_type": "execute_result"
    }
   ],
   "source": [
    "math.floor(a)"
   ]
  },
  {
   "cell_type": "code",
   "execution_count": 64,
   "metadata": {},
   "outputs": [
    {
     "data": {
      "text/plain": [
       "120"
      ]
     },
     "execution_count": 64,
     "metadata": {},
     "output_type": "execute_result"
    }
   ],
   "source": [
    "math.factorial(5)"
   ]
  },
  {
   "cell_type": "code",
   "execution_count": 65,
   "metadata": {},
   "outputs": [
    {
     "data": {
      "text/plain": [
       "4"
      ]
     },
     "execution_count": 65,
     "metadata": {},
     "output_type": "execute_result"
    }
   ],
   "source": [
    "math.ceil(math.pi)"
   ]
  },
  {
   "cell_type": "code",
   "execution_count": 66,
   "metadata": {},
   "outputs": [
    {
     "data": {
      "text/plain": [
       "3"
      ]
     },
     "execution_count": 66,
     "metadata": {},
     "output_type": "execute_result"
    }
   ],
   "source": [
    "math.floor(math.pi)"
   ]
  },
  {
   "cell_type": "code",
   "execution_count": 67,
   "metadata": {},
   "outputs": [
    {
     "data": {
      "text/plain": [
       "0.0"
      ]
     },
     "execution_count": 67,
     "metadata": {},
     "output_type": "execute_result"
    }
   ],
   "source": [
    "math.log(1)"
   ]
  },
  {
   "cell_type": "code",
   "execution_count": 68,
   "metadata": {},
   "outputs": [
    {
     "data": {
      "text/plain": [
       "0.0"
      ]
     },
     "execution_count": 68,
     "metadata": {},
     "output_type": "execute_result"
    }
   ],
   "source": [
    "math.log10(1)"
   ]
  },
  {
   "cell_type": "code",
   "execution_count": 69,
   "metadata": {},
   "outputs": [
    {
     "data": {
      "text/plain": [
       "0.0"
      ]
     },
     "execution_count": 69,
     "metadata": {},
     "output_type": "execute_result"
    }
   ],
   "source": [
    "math.log2(1)"
   ]
  },
  {
   "cell_type": "code",
   "execution_count": 70,
   "metadata": {},
   "outputs": [
    {
     "data": {
      "text/plain": [
       "0.6931471805599453"
      ]
     },
     "execution_count": 70,
     "metadata": {},
     "output_type": "execute_result"
    }
   ],
   "source": [
    "math.log1p(1)"
   ]
  },
  {
   "cell_type": "markdown",
   "metadata": {},
   "source": [
    "### Quick observations\n",
    "\n",
    "As you would've taken note of, \n",
    "- some of the functions such as floor(),log() is part of the math package\n",
    "- some of the functions such as split(), upper(), islower() are pure string functions\n",
    "- functions such as len(), type() are implicitly available to use as part of python"
   ]
  }
 ],
 "metadata": {
  "hide_input": false,
  "kernelspec": {
   "display_name": "Python 3",
   "language": "python",
   "name": "python3"
  },
  "language_info": {
   "codemirror_mode": {
    "name": "ipython",
    "version": 3
   },
   "file_extension": ".py",
   "mimetype": "text/x-python",
   "name": "python",
   "nbconvert_exporter": "python",
   "pygments_lexer": "ipython3",
   "version": "3.7.4"
  },
  "toc": {
   "base_numbering": 1,
   "nav_menu": {},
   "number_sections": true,
   "sideBar": true,
   "skip_h1_title": false,
   "title_cell": "Table of Contents",
   "title_sidebar": "Contents",
   "toc_cell": false,
   "toc_position": {},
   "toc_section_display": true,
   "toc_window_display": true
  }
 },
 "nbformat": 4,
 "nbformat_minor": 2
}
