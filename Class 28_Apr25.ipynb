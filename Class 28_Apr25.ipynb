{
 "cells": [
  {
   "cell_type": "markdown",
   "metadata": {},
   "source": [
    "<h1> Day 28 - Class </h1>\n",
    "\n",
    "## Improving Algorithms\n",
    "\n",
    "Last class we saw that we can employee different techniques for improving the model accuracy (e.g. blending , boosting etc). We keep track of the model metrics (accuracy, tn, fn , etc etc) for each model and pick the one that's performing the best. For competitions, however this will not be good enough. We have to see approaches like blending to make a better algorithm."
   ]
  },
  {
   "cell_type": "markdown",
   "metadata": {},
   "source": [
    "### Choose best hyperparameters with GridSearchCV\n",
    "\n",
    "Grid search is the process of performing hyper parameter tuning in order to determine the optimal values for a given model. This is significant as the performance of the entire model is based on the hyper parameter values specified.\n",
    "\n",
    "A cross validation process is performed in order to determine the hyper parameter value set which provides the best accuracy levels."
   ]
  },
  {
   "cell_type": "code",
   "execution_count": 10,
   "metadata": {},
   "outputs": [],
   "source": [
    "import numpy as np\n",
    "from sklearn.model_selection import train_test_split\n",
    "\n",
    "X = np.random.randint(1,100,(100,5))\n",
    "y = np.random.randint(0,2,(100))\n",
    "\n",
    "X_train,X_test,y_train,y_test = train_test_split(X, y, test_size=0.3)\n"
   ]
  },
  {
   "cell_type": "code",
   "execution_count": 12,
   "metadata": {},
   "outputs": [
    {
     "name": "stdout",
     "output_type": "stream",
     "text": [
      "Fitting 5 folds for each of 72 candidates, totalling 360 fits\n"
     ]
    },
    {
     "name": "stderr",
     "output_type": "stream",
     "text": [
      "[Parallel(n_jobs=-1)]: Using backend LokyBackend with 4 concurrent workers.\n",
      "[Parallel(n_jobs=-1)]: Done  76 tasks      | elapsed:    3.3s\n",
      "[Parallel(n_jobs=-1)]: Done 360 out of 360 | elapsed:   13.0s finished\n"
     ]
    },
    {
     "data": {
      "text/plain": [
       "{'bootstrap': True,\n",
       " 'ccp_alpha': 0.0,\n",
       " 'class_weight': None,\n",
       " 'criterion': 'gini',\n",
       " 'max_depth': None,\n",
       " 'max_features': 'auto',\n",
       " 'max_leaf_nodes': None,\n",
       " 'max_samples': None,\n",
       " 'min_impurity_decrease': 0.0,\n",
       " 'min_impurity_split': None,\n",
       " 'min_samples_leaf': 1,\n",
       " 'min_samples_split': 2,\n",
       " 'min_weight_fraction_leaf': 0.0,\n",
       " 'n_estimators': 100,\n",
       " 'n_jobs': None,\n",
       " 'oob_score': False,\n",
       " 'random_state': 42,\n",
       " 'verbose': 0,\n",
       " 'warm_start': False}"
      ]
     },
     "execution_count": 12,
     "metadata": {},
     "output_type": "execute_result"
    }
   ],
   "source": [
    "from sklearn.pipeline import Pipeline\n",
    "from sklearn.model_selection import GridSearchCV\n",
    "from sklearn.ensemble import RandomForestClassifier\n",
    "\n",
    "rf_clf = RandomForestClassifier(random_state = 42)\n",
    "\n",
    "params_grid = { 'max_depth' : [3,None],\n",
    "\t\t'min_samples_split' : [2,3,10],\n",
    "\t\t'min_samples_leaf':[1,3,10],\n",
    "\t\t'bootstrap':[True,False],\n",
    "\t\t'criterion':['gini','entropy']}\n",
    "\n",
    "grid_search = GridSearchCV(rf_clf,params_grid,n_jobs=-1,cv=5,verbose=1,scoring='accuracy')\n",
    "\n",
    "grid_search.fit(X_train,y_train)\n",
    "\n",
    "grid_search.best_score_\n",
    "\n",
    "grid_search.best_estimator_.get_params()\n",
    "\n",
    "#print_score(grid_search, X_train, y_train, X_test, y_test, train=True)\n",
    "\n",
    "#print_score(grid_search, X_train, y_train, X_test, y_test, train=False)"
   ]
  },
  {
   "cell_type": "markdown",
   "metadata": {},
   "source": [
    "### Model Validation\n",
    "\n",
    "Generally, an error estimation for the model is made after training, better known as evaluation of residuals. In this process, a numerical estimate of the difference in predicted and original responses is done, also called the training error. However, this only gives us an idea about how well our model does on data used to train it. Now its possible that the model is underfitting or overfitting the data. So, the problem with this evaluation technique is that it does not give an indication of how well the learner will generalize to an independent/ unseen data set. Getting this idea about our model is known as Cross Validation.\n",
    "\n",
    "#### Holdout Method\n",
    "\n",
    "Now a basic remedy for this involves removing a part of the training data and using it to get predictions from the model trained on rest of the data. The error estimation then tells how our model is doing on unseen data or the validation set. This is a simple kind of cross validation technique, also known as the holdout method. Although this method doesn’t take any overhead to compute and is better than traditional validation, it still suffers from issues of high variance. This is because it is not certain which data points will end up in the validation set and the result might be entirely different for different sets.\n",
    "\n",
    "#### K-Fold Cross Validation\n",
    "\n",
    "As there is never enough data to train your model, removing a part of it for validation poses a problem of underfitting. By reducing the training data, we risk losing important patterns/ trends in data set, which in turn increases error induced by bias. So, what we require is a method that provides ample data for training the model and also leaves ample data for validation. K Fold cross validation does exactly that.\n",
    "\n",
    "In K Fold cross validation, the data is divided into k subsets. Now the holdout method is repeated k times, such that each time, one of the k subsets is used as the test set/ validation set and the other k-1 subsets are put together to form a training set. The error estimation is averaged over all k trials to get total effectiveness of our model. As can be seen, every data point gets to be in a validation set exactly once, and gets to be in a training set k-1 times. This significantly reduces bias as we are using most of the data for fitting, and also significantly reduces variance as most of the data is also being used in validation set. Interchanging the training and test sets also adds to the effectiveness of this method. As a general rule and empirical evidence, K = 5 or 10 is generally preferred, but nothing’s fixed and it can take any value.\n",
    "\n",
    "#### Stratified K-Fold Cross Validation\n",
    "\n",
    "In some cases, there may be a large imbalance in the response variables. For example, in dataset concerning price of houses, there might be large number of houses having high price. Or in case of classification, there might be several times more negative samples than positive samples. For such problems, a slight variation in the K Fold cross validation technique is made, such that each fold contains approximately the same percentage of samples of each target class as the complete set, or in case of prediction problems, the mean response value is approximately equal in all the folds. This variation is also known as Stratified K Fold.\n",
    "\n",
    "#### How it works ?\n",
    "Run cross fold validation and see how model is performing for each data splits. If the model is performing with more or less same level of accuracies across multiple splits, then that's a good model\n",
    "\n",
    "See the below example, cv = 10 for a datasize of 500 records means each split has 50 records and we run the train on 9 samples and test on remaining 1 sample and so on for each split"
   ]
  },
  {
   "cell_type": "code",
   "execution_count": 13,
   "metadata": {},
   "outputs": [
    {
     "data": {
      "text/plain": [
       "array([0.4, 0.4, 0.5, 0.6, 0.5, 0.4, 0.5, 0.2, 0.7, 0.4])"
      ]
     },
     "execution_count": 13,
     "metadata": {},
     "output_type": "execute_result"
    }
   ],
   "source": [
    "from sklearn.model_selection import cross_val_score\n",
    "cross_val_score(rf_clf,X,y,cv=10)"
   ]
  },
  {
   "cell_type": "markdown",
   "metadata": {},
   "source": [
    "### Blending\n",
    "\n",
    "There are different types of blending. One of them is explained in the previous class. The other type is explained below,\n",
    "\n",
    "- We train the model on 'n' algorithms\n",
    "- We take the average predictions of each algorithm and give that as the prediction"
   ]
  },
  {
   "cell_type": "markdown",
   "metadata": {},
   "source": [
    "### Model Building steps"
   ]
  },
  {
   "cell_type": "markdown",
   "metadata": {},
   "source": [
    "- Model Building\n",
    "    - Machine Learning Models\n",
    "    - Accuracy Score and hyper-parameter tuning\n",
    "    - Single model which give you highest accuracy is chosen\n",
    "    - deploy and we use this for prediction\n",
    "\n",
    "- Advanced users/kaggle competition\n",
    "    - Stacking models\n",
    "    - boosting\n",
    "    - use this models for predicting the feature observations\n",
    "    - trade-off between interpretability - accuracy (complex techniques such as stacking gives better accuracy but interpretability is lost)\n",
    "    - gridsearch\n",
    "    - Find optimized parameters for each algorithms\n",
    "    - stacking or boosting algorithms\n",
    "    - check for accuracy\n",
    "    - k-fold validation\n",
    "    - submit prediction once you have k fold validation values in similar ranges"
   ]
  },
  {
   "cell_type": "markdown",
   "metadata": {},
   "source": [
    "### Feature Engineering\n",
    "\n",
    "While we develop a model we have to select the features(predictors) that helps the most in predicting/classifying the y-variable. The technique to achieve this is called 'feature engineering'. We try to select the most important features and as well try to see if we can make the insignificant features as significant by applying some techniques\n",
    "\n",
    "\n",
    "1) Feature Importance - You can objectively estimate the usefulness of features.\n",
    "\n",
    "2) Feature Extraction - is a process of automatically reducing the dimensionality of these types of observations into a much smaller set that can be modelled.\n",
    "- PCA\n",
    "\n",
    "3) Feature Selection - addresses these problems by automatically selecting a subset that are most useful to the problem.\n",
    "- correlation\n",
    "- forward selection\n",
    "- backward elimination\n",
    "- stepwise selection\n",
    "- L1/L2 regularisation\n",
    "\n",
    "4) Feature Construction\n",
    "\n",
    "#### Topics\n",
    "- Feature Engineering\n",
    "- Forward Selection\n",
    "- Backward Elimination\n",
    "- Stepwise Selection\n",
    "- Lowvariance Method\n",
    "- PCA (Principal Component Analysis)\n",
    "- LDA (Linear Discriminant Analysis)\n",
    "- TSNE (T Student Neighbourhood Embedding)\n",
    "\n",
    "Objective - \n",
    "Identify the imporant columns using \n",
    "- forward selection\n",
    "\n",
    "\n",
    "    Step 1\n",
    "\n",
    "    The first step is very similar to that of backward elimination. Here, we select a significance level, or a P-value. And as you already know, significance level of 5%, or a P-value of 0.05 is common. So let’s stick with that.\n",
    "    \n",
    "    Step 2\n",
    "\n",
    "    This is a pretty tedious step. In this second step, we create a simple regression model for each feature we have in our dataset. So if there are 100 features, we create 100 simple linear regression models. So this could get a lot boring and complicated depending on the number of features in your dataset. But this is also one of the most import step in the process. And once we fit all the simple linear regression models, we calculate the P-value for all of them and identify the feature with the lowest P-value.\n",
    "    \n",
    "    Step 3\n",
    "\n",
    "    In the previous step, we identified the feature with the lowest P-value. We’ll add that feature to the simple linear regression models of all other features. So in the second step, we had simple regression models with one feature each. In this step, we’ll have one less linear regression model, but each of them will have two features. Once we do this, we’ll fit the models again and calculate the P-values.\n",
    "    \n",
    "    Step 4\n",
    "\n",
    "    In this step, we have the P-values of all the models we created in the previous step. We identify the feature with the lowest P-value again. We check if this lowest P-value is less than the significance level, or 0.05 in our example. If so, we’ll take that new feature and add it as a feature to all other models. So basically, we’re repeating step 3 with a new feature. We’ll continue this loop until the lowest P-value we get from a model is no longer less than the significance level. Once we reach this stage, we break the loop.\n",
    "\n",
    "- backward elimination\n",
    "<img src='img/backward-selection-01.png'/>\n",
    "- stepwise selection\n",
    "- lowvariance method\n",
    "\n",
    "Convert insignificant to significant\n",
    "- PCA (Principal Component Analysis)\n",
    "- LDA (Linear Discriminant Analysis)\n",
    "- TSNE (T Student Neighbour Embedding)\n",
    "- Transformations\n"
   ]
  },
  {
   "cell_type": "markdown",
   "metadata": {},
   "source": [
    "#### Techniques\n",
    "<b>Drop missing data rows/columns</b>\n",
    "\n",
    "When there is a lot of missing data, then drop those rows/columns. There is not an optimum threshold for dropping but you can use 70% as an example value and try to drop the rows and columns which have missing values with higher than this threshold.\n",
    "\n",
    "<b>Imputation</b>\n",
    "\n",
    "When there is a lot of missing value , you can choose to fill them with an 'ideal' value. Ideal value could be,\n",
    "\n",
    "0 or median of the feature, it varies b/w use cases. Median is not sensitive to outliers, whereas mean is sensitive to outlier.\n",
    "\n",
    "Replacing the missing values with the maximum occurred value in a column is a good option for handling categorical columns. But if you think the values in the column are distributed uniformly and there is not a dominant value, imputing a category like “Other” might be more sensible, because in such a case, your imputation is likely to converge a random selection.\n",
    "\n",
    "<b>Outlier handling</b>\n",
    "\n",
    "Limit to plus/minus 3 standard deviations \n",
    "\n",
    "Or \n",
    "\n",
    "Use Z-scores\n",
    "\n",
    "Or\n",
    "\n",
    "Use quantiles\n",
    "\n",
    "<b>Binning</b>\n",
    "<pre>\n",
    "#Numerical Binning Example\n",
    "\n",
    "Value  -> Bin\n",
    "0-30   ->  Low       \n",
    "31-70  ->  Mid       \n",
    "71-100 ->  High\n",
    "\n",
    "#Categorical Binning Example\n",
    "Value  ->  Bin       \n",
    "Spain  ->  Europe      \n",
    "Italy  ->  Europe       \n",
    "Chile  ->  South America\n",
    "Brazil ->  South America\n",
    "</pre>\n",
    "\n",
    "The trade-off between performance and overfitting is the key point of the binning process. In my opinion, for numerical columns, except for some obvious overfitting cases, binning might be redundant for some kind of algorithms, due to its effect on model performance. Thus, assigning a general category to these less frequent values helps to keep the robustness of the model. For example, if your data size is 100,000 rows, it might be a good option to unite the labels with a count less than 100 to a new category like “Other”.\n",
    "\n",
    "\n",
    "<b> Log transormations </b>\n",
    "\n",
    "<b> Normalisation </b>"
   ]
  },
  {
   "cell_type": "markdown",
   "metadata": {},
   "source": [
    "### Dimensionality Reduction\n",
    "Having a large number of dimensions in the feature space can mean that the volume of that space is very large, and in turn, the points that we have in that space (rows of data) often represent a small and non-representative sample.\n",
    "\n",
    "This can dramatically impact the performance of machine learning algorithms fit on data with many input features, generally referred to as the “curse of dimensionality.”\n",
    "\n",
    "#### Principal Component Analysis (PCA)\n",
    "\n",
    "Principal Component Analysis, or PCA, is a dimensionality-reduction method that is often used to reduce the dimensionality of large data sets, by transforming a large set of variables into a smaller one that still contains most of the information in the large set.\n",
    "\n",
    "PCA is an unsupervised machine learning method that is used for dimensionality reduction. The main idea of principal component analysis (PCA) is to reduce the dimensionality of a data set consisting of many variables correlated with each other, either heavily or lightly, while retaining the variation present in the dataset, up to the maximum extent."
   ]
  },
  {
   "cell_type": "code",
   "execution_count": 14,
   "metadata": {},
   "outputs": [
    {
     "data": {
      "text/html": [
       "<div>\n",
       "<style scoped>\n",
       "    .dataframe tbody tr th:only-of-type {\n",
       "        vertical-align: middle;\n",
       "    }\n",
       "\n",
       "    .dataframe tbody tr th {\n",
       "        vertical-align: top;\n",
       "    }\n",
       "\n",
       "    .dataframe thead th {\n",
       "        text-align: right;\n",
       "    }\n",
       "</style>\n",
       "<table border=\"1\" class=\"dataframe\">\n",
       "  <thead>\n",
       "    <tr style=\"text-align: right;\">\n",
       "      <th></th>\n",
       "      <th>wt1</th>\n",
       "      <th>wt2</th>\n",
       "      <th>wt3</th>\n",
       "      <th>wt4</th>\n",
       "      <th>wt5</th>\n",
       "      <th>ko1</th>\n",
       "      <th>ko2</th>\n",
       "      <th>ko3</th>\n",
       "      <th>ko4</th>\n",
       "      <th>ko5</th>\n",
       "    </tr>\n",
       "  </thead>\n",
       "  <tbody>\n",
       "    <tr>\n",
       "      <td>gene1</td>\n",
       "      <td>793</td>\n",
       "      <td>805</td>\n",
       "      <td>765</td>\n",
       "      <td>826</td>\n",
       "      <td>811</td>\n",
       "      <td>923</td>\n",
       "      <td>948</td>\n",
       "      <td>907</td>\n",
       "      <td>906</td>\n",
       "      <td>964</td>\n",
       "    </tr>\n",
       "    <tr>\n",
       "      <td>gene2</td>\n",
       "      <td>103</td>\n",
       "      <td>127</td>\n",
       "      <td>131</td>\n",
       "      <td>124</td>\n",
       "      <td>115</td>\n",
       "      <td>462</td>\n",
       "      <td>514</td>\n",
       "      <td>421</td>\n",
       "      <td>493</td>\n",
       "      <td>487</td>\n",
       "    </tr>\n",
       "    <tr>\n",
       "      <td>gene3</td>\n",
       "      <td>88</td>\n",
       "      <td>83</td>\n",
       "      <td>78</td>\n",
       "      <td>83</td>\n",
       "      <td>75</td>\n",
       "      <td>295</td>\n",
       "      <td>302</td>\n",
       "      <td>317</td>\n",
       "      <td>293</td>\n",
       "      <td>318</td>\n",
       "    </tr>\n",
       "    <tr>\n",
       "      <td>gene4</td>\n",
       "      <td>298</td>\n",
       "      <td>332</td>\n",
       "      <td>292</td>\n",
       "      <td>310</td>\n",
       "      <td>301</td>\n",
       "      <td>830</td>\n",
       "      <td>819</td>\n",
       "      <td>862</td>\n",
       "      <td>823</td>\n",
       "      <td>865</td>\n",
       "    </tr>\n",
       "    <tr>\n",
       "      <td>gene5</td>\n",
       "      <td>763</td>\n",
       "      <td>756</td>\n",
       "      <td>768</td>\n",
       "      <td>742</td>\n",
       "      <td>769</td>\n",
       "      <td>853</td>\n",
       "      <td>814</td>\n",
       "      <td>862</td>\n",
       "      <td>840</td>\n",
       "      <td>778</td>\n",
       "    </tr>\n",
       "    <tr>\n",
       "      <td>...</td>\n",
       "      <td>...</td>\n",
       "      <td>...</td>\n",
       "      <td>...</td>\n",
       "      <td>...</td>\n",
       "      <td>...</td>\n",
       "      <td>...</td>\n",
       "      <td>...</td>\n",
       "      <td>...</td>\n",
       "      <td>...</td>\n",
       "      <td>...</td>\n",
       "    </tr>\n",
       "    <tr>\n",
       "      <td>gene96</td>\n",
       "      <td>691</td>\n",
       "      <td>681</td>\n",
       "      <td>719</td>\n",
       "      <td>684</td>\n",
       "      <td>727</td>\n",
       "      <td>533</td>\n",
       "      <td>529</td>\n",
       "      <td>554</td>\n",
       "      <td>564</td>\n",
       "      <td>555</td>\n",
       "    </tr>\n",
       "    <tr>\n",
       "      <td>gene97</td>\n",
       "      <td>516</td>\n",
       "      <td>542</td>\n",
       "      <td>569</td>\n",
       "      <td>538</td>\n",
       "      <td>514</td>\n",
       "      <td>551</td>\n",
       "      <td>541</td>\n",
       "      <td>527</td>\n",
       "      <td>537</td>\n",
       "      <td>566</td>\n",
       "    </tr>\n",
       "    <tr>\n",
       "      <td>gene98</td>\n",
       "      <td>536</td>\n",
       "      <td>507</td>\n",
       "      <td>517</td>\n",
       "      <td>506</td>\n",
       "      <td>511</td>\n",
       "      <td>863</td>\n",
       "      <td>853</td>\n",
       "      <td>848</td>\n",
       "      <td>842</td>\n",
       "      <td>932</td>\n",
       "    </tr>\n",
       "    <tr>\n",
       "      <td>gene99</td>\n",
       "      <td>164</td>\n",
       "      <td>159</td>\n",
       "      <td>198</td>\n",
       "      <td>185</td>\n",
       "      <td>179</td>\n",
       "      <td>801</td>\n",
       "      <td>722</td>\n",
       "      <td>713</td>\n",
       "      <td>747</td>\n",
       "      <td>738</td>\n",
       "    </tr>\n",
       "    <tr>\n",
       "      <td>gene100</td>\n",
       "      <td>39</td>\n",
       "      <td>56</td>\n",
       "      <td>52</td>\n",
       "      <td>48</td>\n",
       "      <td>50</td>\n",
       "      <td>481</td>\n",
       "      <td>439</td>\n",
       "      <td>473</td>\n",
       "      <td>437</td>\n",
       "      <td>477</td>\n",
       "    </tr>\n",
       "  </tbody>\n",
       "</table>\n",
       "<p>100 rows × 10 columns</p>\n",
       "</div>"
      ],
      "text/plain": [
       "         wt1  wt2  wt3  wt4  wt5  ko1  ko2  ko3  ko4  ko5\n",
       "gene1    793  805  765  826  811  923  948  907  906  964\n",
       "gene2    103  127  131  124  115  462  514  421  493  487\n",
       "gene3     88   83   78   83   75  295  302  317  293  318\n",
       "gene4    298  332  292  310  301  830  819  862  823  865\n",
       "gene5    763  756  768  742  769  853  814  862  840  778\n",
       "...      ...  ...  ...  ...  ...  ...  ...  ...  ...  ...\n",
       "gene96   691  681  719  684  727  533  529  554  564  555\n",
       "gene97   516  542  569  538  514  551  541  527  537  566\n",
       "gene98   536  507  517  506  511  863  853  848  842  932\n",
       "gene99   164  159  198  185  179  801  722  713  747  738\n",
       "gene100   39   56   52   48   50  481  439  473  437  477\n",
       "\n",
       "[100 rows x 10 columns]"
      ]
     },
     "execution_count": 14,
     "metadata": {},
     "output_type": "execute_result"
    }
   ],
   "source": [
    "import pandas as pd\n",
    "import numpy as np\n",
    "import random as rd\n",
    "from sklearn.decomposition import PCA\n",
    "from sklearn import preprocessing\n",
    "import matplotlib.pyplot as plt\n",
    "\n",
    "genes = ['gene' + str(i) for i in range (1,101)]\n",
    "wt = ['wt' + str(i) for i in range(1,6)]\n",
    "ko = ['ko' + str(i) for i in range(1,6)]\n",
    "data = pd.DataFrame(columns = [*wt, *ko], index = genes)\n",
    "\n",
    "for gene in data.index:\n",
    "    data.loc[gene,'wt1':'wt5'] = np.random.poisson(lam=rd.randrange(10,1000), size=5)\n",
    "    data.loc[gene,'ko1':'ko5'] = np.random.poisson(lam=rd.randrange(10,1000), size=5)\n",
    "data"
   ]
  },
  {
   "cell_type": "code",
   "execution_count": 19,
   "metadata": {},
   "outputs": [
    {
     "data": {
      "image/png": "[encoded data removed]",
      "text/plain": [
       "<Figure size 432x288 with 1 Axes>"
      ]
     },
     "metadata": {
      "needs_background": "light"
     },
     "output_type": "display_data"
    }
   ],
   "source": [
    "scaled_data = preprocessing.scale(data.T)\n",
    "pca = PCA()\n",
    "pca.fit(scaled_data)\n",
    "pca_data = pca.transform(scaled_data)\n",
    "\n",
    "per_var = np.round(pca.explained_variance_ratio_*100,decimals=1)\n",
    "labels = ['PC' + str(x) for x in range(1,len(per_var)+1)]\n",
    "\n",
    "plt.bar(x=range(1,len(per_var)+1), height = per_var, tick_label=labels)\n",
    "plt.ylabel('Percentage of explained variance')\n",
    "plt.xlabel('Principal Component')\n",
    "plt.title('Scree Plot')\n",
    "plt.show()"
   ]
  },
  {
   "cell_type": "code",
   "execution_count": 20,
   "metadata": {
    "scrolled": true
   },
   "outputs": [
    {
     "data": {
      "image/png": "[encoded data removed]",
      "text/plain": [
       "<Figure size 432x288 with 1 Axes>"
      ]
     },
     "metadata": {
      "needs_background": "light"
     },
     "output_type": "display_data"
    }
   ],
   "source": [
    "pca_df = pd.DataFrame(pca_data, index=[*wt, *ko], columns = labels)\n",
    "plt.scatter(pca_df.PC1, pca_df.PC2)\n",
    "plt.title('My PCA Graph')\n",
    "\n",
    "plt.xlabel('PCA - {0}%'.format(per_var[0]))\n",
    "plt.ylabel('PCA - {0}%'.format(per_var[1]))\n",
    "\n",
    "for sample in pca_df.index:\n",
    "    plt.annotate(sample, (pca_df.PC1.loc[sample], pca_df.PC2.loc[sample]))\n",
    "plt.show()"
   ]
  },
  {
   "cell_type": "code",
   "execution_count": 23,
   "metadata": {},
   "outputs": [
    {
     "name": "stdout",
     "output_type": "stream",
     "text": [
      "gene39    0.107057\n",
      "gene86    0.107037\n",
      "gene30   -0.107034\n",
      "gene18    0.107025\n",
      "gene60   -0.107015\n",
      "gene85   -0.106994\n",
      "gene54    0.106990\n",
      "gene20   -0.106958\n",
      "gene79    0.106955\n",
      "gene62    0.106954\n",
      "dtype: float64\n"
     ]
    }
   ],
   "source": [
    "loading_scores = pd.Series(pca.components_[0],index=genes)\n",
    "sorted_loading_scores = loading_scores.abs().sort_values(ascending=False)\n",
    "top_10_genes = sorted_loading_scores[0:10].index.values\n",
    "print(loading_scores[top_10_genes])"
   ]
  },
  {
   "cell_type": "markdown",
   "metadata": {},
   "source": [
    "#### Linear Discriminant Analysis(LDA)\n",
    "Linear Discriminant Analysis, or LDA, is a linear machine learning algorithm used for multi-class classification.\n",
    "\n",
    "It should not be confused with “Latent Dirichlet Allocation” (LDA), which is also a dimensionality reduction technique for text documents\n",
    "\n",
    "Linear Discriminant Analysis seeks to best separate (or discriminate) the samples in the training dataset by their class value. Specifically, the model seeks to find a linear combination of input variables that achieves the maximum separation for samples between classes (class centroids or means) and the minimum separation of samples within each class."
   ]
  },
  {
   "cell_type": "code",
   "execution_count": 4,
   "metadata": {},
   "outputs": [
    {
     "name": "stdout",
     "output_type": "stream",
     "text": [
      ">1 0.182 (0.032)\n",
      ">2 0.235 (0.036)\n",
      ">3 0.267 (0.038)\n",
      ">4 0.303 (0.037)\n",
      ">5 0.314 (0.049)\n",
      ">6 0.314 (0.040)\n",
      ">7 0.329 (0.042)\n",
      ">8 0.343 (0.045)\n",
      ">9 0.358 (0.056)\n"
     ]
    },
    {
     "data": {
      "image/png": "[encoded data removed]",
      "text/plain": [
       "<Figure size 432x288 with 1 Axes>"
      ]
     },
     "metadata": {
      "needs_background": "light"
     },
     "output_type": "display_data"
    }
   ],
   "source": [
    "# compare lda number of components with naive bayes algorithm for classification\n",
    "from numpy import mean\n",
    "from numpy import std\n",
    "from sklearn.datasets import make_classification\n",
    "from sklearn.model_selection import cross_val_score\n",
    "from sklearn.model_selection import RepeatedStratifiedKFold\n",
    "from sklearn.pipeline import Pipeline\n",
    "from sklearn.discriminant_analysis import LinearDiscriminantAnalysis\n",
    "from sklearn.naive_bayes import GaussianNB\n",
    "from matplotlib import pyplot\n",
    "\n",
    "# get the dataset\n",
    "def get_dataset():\n",
    "\tX, y = make_classification(n_samples=1000, n_features=20, n_informative=15, n_redundant=5, random_state=7, n_classes=10)\n",
    "\treturn X, y\n",
    "\n",
    "# get a list of models to evaluate\n",
    "def get_models():\n",
    "\tmodels = dict()\n",
    "\tfor i in range(1,10):\n",
    "\t\tsteps = [('lda', LinearDiscriminantAnalysis(n_components=i)), ('m', GaussianNB())]\n",
    "\t\tmodels[str(i)] = Pipeline(steps=steps)\n",
    "\treturn models\n",
    "\n",
    "# evaluate a give model using cross-validation\n",
    "def evaluate_model(model, X, y):\n",
    "\tcv = RepeatedStratifiedKFold(n_splits=10, n_repeats=3, random_state=1)\n",
    "\tscores = cross_val_score(model, X, y, scoring='accuracy', cv=cv, n_jobs=-1, error_score='raise')\n",
    "\treturn scores\n",
    "\n",
    "# define dataset\n",
    "X, y = get_dataset()\n",
    "# get the models to evaluate\n",
    "models = get_models()\n",
    "# evaluate the models and store results\n",
    "results, names = list(), list()\n",
    "for name, model in models.items():\n",
    "\tscores = evaluate_model(model, X, y)\n",
    "\tresults.append(scores)\n",
    "\tnames.append(name)\n",
    "\tprint('>%s %.3f (%.3f)' % (name, mean(scores), std(scores)))\n",
    "# plot model performance for comparison\n",
    "pyplot.boxplot(results, labels=names, showmeans=True)\n",
    "pyplot.show()"
   ]
  },
  {
   "cell_type": "markdown",
   "metadata": {},
   "source": [
    "#### What is the difference between LDA and PCA for dimensionality reduction?\n",
    "\n",
    "Both LDA and PCA are linear transformation techniques: LDA is a supervised whereas PCA is unsupervised – PCA ignores class labels.\n",
    "\n",
    "We can picture PCA as a technique that finds the directions of maximal variance:\n",
    "<img src='img/pca-01.png'/>\n",
    "\n",
    "In contrast to PCA, LDA attempts to find a feature subspace that maximizes class separability (note that LD 2 would be a very bad linear discriminant in the figure above).\n",
    "<img src='img/lda-01.png'/>"
   ]
  },
  {
   "cell_type": "markdown",
   "metadata": {},
   "source": [
    "## References\n",
    "\n",
    "https://towardsdatascience.com/backward-elimination-for-feature-selection-in-machine-learning-c6a3a8f8cef4\n",
    "\n",
    "https://sebastianraschka.com/faq/docs/lda-vs-pca.html\n",
    "\n",
    "https://machinelearningmastery.com/linear-discriminant-analysis-for-dimensionality-reduction-in-python/"
   ]
  }
 ],
 "metadata": {
  "hide_input": false,
  "kernelspec": {
   "display_name": "Python 3",
   "language": "python",
   "name": "python3"
  },
  "language_info": {
   "codemirror_mode": {
    "name": "ipython",
    "version": 3
   },
   "file_extension": ".py",
   "mimetype": "text/x-python",
   "name": "python",
   "nbconvert_exporter": "python",
   "pygments_lexer": "ipython3",
   "version": "3.7.4"
  },
  "toc": {
   "base_numbering": 1,
   "nav_menu": {},
   "number_sections": true,
   "sideBar": true,
   "skip_h1_title": false,
   "title_cell": "Table of Contents",
   "title_sidebar": "Contents",
   "toc_cell": false,
   "toc_position": {},
   "toc_section_display": true,
   "toc_window_display": true
  }
 },
 "nbformat": 4,
 "nbformat_minor": 2
}
