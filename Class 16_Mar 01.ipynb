{
 "cells": [
  {
   "cell_type": "markdown",
   "metadata": {},
   "source": [
    "<h1> Day 16 - Class </h1>"
   ]
  },
  {
   "cell_type": "markdown",
   "metadata": {},
   "source": [
    "## Functions"
   ]
  },
  {
   "cell_type": "code",
   "execution_count": 1,
   "metadata": {},
   "outputs": [],
   "source": [
    "import pandas as pd\n",
    "import numpy as np\n",
    "from IPython.core.interactiveshell import InteractiveShell\n",
    "InteractiveShell.ast_node_interactivity='all'"
   ]
  },
  {
   "cell_type": "code",
   "execution_count": 2,
   "metadata": {},
   "outputs": [
    {
     "name": "stdout",
     "output_type": "stream",
     "text": [
      "hello\n"
     ]
    }
   ],
   "source": [
    "def f1():\n",
    "    print('hello')\n",
    "f1()"
   ]
  },
  {
   "cell_type": "code",
   "execution_count": 3,
   "metadata": {},
   "outputs": [
    {
     "name": "stdout",
     "output_type": "stream",
     "text": [
      "4\n",
      "hellohello\n"
     ]
    }
   ],
   "source": [
    "def f1(x):\n",
    "    print(x*2)\n",
    "f1(2)\n",
    "f1('hello')"
   ]
  },
  {
   "cell_type": "code",
   "execution_count": 5,
   "metadata": {},
   "outputs": [
    {
     "data": {
      "text/plain": [
       "'D:\\\\sanooj\\\\datascience\\\\notebooks\\\\spklearn-ml'"
      ]
     },
     "execution_count": 5,
     "metadata": {},
     "output_type": "execute_result"
    }
   ],
   "source": [
    "pwd"
   ]
  },
  {
   "cell_type": "markdown",
   "metadata": {},
   "source": [
    "### Modules\n",
    "\n",
    "Create a new file <b>func_test.py</b> in the same folder as above, that's how we can import as follows\n",
    "\n",
    "f3, f4 are functions defined in func_test.py"
   ]
  },
  {
   "cell_type": "code",
   "execution_count": 8,
   "metadata": {},
   "outputs": [
    {
     "name": "stdout",
     "output_type": "stream",
     "text": [
      " Volume in drive D is LENOVO\n",
      " Volume Serial Number is E48E-8B0A\n",
      "\n",
      " Directory of D:\\sanooj\\datascience\\notebooks\\spklearn-ml\n",
      "\n",
      "01-03-2020  10:20                52 func_test.py\n",
      "               1 File(s)             52 bytes\n",
      "               0 Dir(s)   3,599,564,800 bytes free\n"
     ]
    }
   ],
   "source": [
    "ls func_test.py"
   ]
  },
  {
   "cell_type": "code",
   "execution_count": 14,
   "metadata": {},
   "outputs": [
    {
     "name": "stdout",
     "output_type": "stream",
     "text": [
      "def f3(x):\n",
      "\treturn x**2\n",
      "\n",
      "def f4(x):\n",
      "\treturn x**3\n"
     ]
    }
   ],
   "source": [
    "!type func_test.py"
   ]
  },
  {
   "cell_type": "code",
   "execution_count": 15,
   "metadata": {},
   "outputs": [
    {
     "data": {
      "text/plain": [
       "9"
      ]
     },
     "execution_count": 15,
     "metadata": {},
     "output_type": "execute_result"
    },
    {
     "data": {
      "text/plain": [
       "27"
      ]
     },
     "execution_count": 15,
     "metadata": {},
     "output_type": "execute_result"
    }
   ],
   "source": [
    "import func_test\n",
    "func_test.f3(3)\n",
    "func_test.f4(3)"
   ]
  },
  {
   "cell_type": "markdown",
   "metadata": {},
   "source": [
    "Create a new folder module_test and inside the module_test folder create a new file test.py, that's how we can import as follows"
   ]
  },
  {
   "cell_type": "code",
   "execution_count": 16,
   "metadata": {},
   "outputs": [
    {
     "name": "stdout",
     "output_type": "stream",
     "text": [
      " Volume in drive D is LENOVO\n",
      " Volume Serial Number is E48E-8B0A\n",
      "\n",
      " Directory of D:\\sanooj\\datascience\\notebooks\\spklearn-ml\\module_test\n",
      "\n",
      "01-03-2020  10:26    <DIR>          .\n",
      "01-03-2020  10:26    <DIR>          ..\n",
      "01-03-2020  10:27    <DIR>          __pycache__\n",
      "01-03-2020  10:24                52 test.py\n",
      "               1 File(s)             52 bytes\n",
      "               3 Dir(s)   3,599,568,896 bytes free\n"
     ]
    }
   ],
   "source": [
    "ls module_test"
   ]
  },
  {
   "cell_type": "code",
   "execution_count": 26,
   "metadata": {},
   "outputs": [
    {
     "data": {
      "text/plain": [
       "9"
      ]
     },
     "execution_count": 26,
     "metadata": {},
     "output_type": "execute_result"
    },
    {
     "name": "stdout",
     "output_type": "stream",
     "text": [
      "100\n",
      "100\n",
      "None\n"
     ]
    }
   ],
   "source": [
    "from module_test import test\n",
    "test.f5(3)\n",
    "\n",
    "def f7(x):\n",
    "    return x**2\n",
    "    print(x**2)\n",
    "\n",
    "def f8(x):\n",
    "    print(x**2)\n",
    "\n",
    "x=f7(10)\n",
    "y=f8(10)\n",
    "print(x)\n",
    "print(y)"
   ]
  },
  {
   "cell_type": "markdown",
   "metadata": {},
   "source": [
    "Let's move our pre-processing code as modules"
   ]
  },
  {
   "cell_type": "code",
   "execution_count": 28,
   "metadata": {},
   "outputs": [
    {
     "name": "stdout",
     "output_type": "stream",
     "text": [
      "Memory usage before optimization is: 0.08 MB\n",
      "Memory usage after optimization is: 0.02 MB\n",
      "Decreased by 80.1%\n",
      "\n",
      "Before NV treatment the stats are as below\n",
      "survived         0\n",
      "pclass           0\n",
      "sex              0\n",
      "age            177\n",
      "sibsp            0\n",
      "parch            0\n",
      "fare             0\n",
      "embarked         2\n",
      "class            0\n",
      "who              0\n",
      "adult_male       0\n",
      "deck           688\n",
      "embark_town      2\n",
      "alive            0\n",
      "alone            0\n",
      "dtype: int64\n",
      "Before NV treatment the stats are as below\n",
      "survived       0\n",
      "pclass         0\n",
      "sex            0\n",
      "age            0\n",
      "sibsp          0\n",
      "parch          0\n",
      "fare           0\n",
      "embarked       0\n",
      "class          0\n",
      "who            0\n",
      "adult_male     0\n",
      "embark_town    0\n",
      "alive          0\n",
      "alone          0\n",
      "dtype: int64\n",
      "\n",
      "Before iqr outler treatment the stats are as below\n",
      "         survived      pclass         age       sibsp       parch        fare\n",
      "count  891.000000  891.000000  891.000000  891.000000  891.000000  891.000000\n",
      "mean     0.383838    2.308642   29.359375    0.523008    0.381594   32.187500\n",
      "std      0.486592    0.836071   13.015625    1.102743    0.806057         inf\n",
      "min      0.000000    1.000000    0.419922    0.000000    0.000000    0.000000\n",
      "25%      0.000000    2.000000   22.000000    0.000000    0.000000    7.910156\n",
      "50%      0.000000    3.000000   28.000000    0.000000    0.000000   14.453125\n",
      "75%      1.000000    3.000000   35.000000    1.000000    0.000000   31.000000\n",
      "max      1.000000    3.000000   80.000000    8.000000    6.000000  512.500000\n",
      "After iqr outler treatment the stats are as below\n",
      "         survived      pclass         age       sibsp  parch        fare\n",
      "count  891.000000  891.000000  891.000000  891.000000  891.0  891.000000\n",
      "mean     0.383838    2.308642   28.476992    0.297419    0.0   17.383624\n",
      "std      0.486592    0.836071    9.793559    0.521648    0.0   12.713531\n",
      "min      0.000000    1.000000    3.000000    0.000000    0.0    0.000000\n",
      "25%      0.000000    2.000000   23.750000    0.000000    0.0    7.910156\n",
      "50%      0.000000    3.000000   28.000000    0.000000    0.0   14.453125\n",
      "75%      1.000000    3.000000   33.000000    1.000000    0.0   24.156250\n",
      "max      1.000000    3.000000   54.000000    2.000000    0.0   65.000000\n",
      "\n",
      "Before MinMax treatment the stats are as below\n",
      "         survived      pclass         age       sibsp  parch        fare\n",
      "count  891.000000  891.000000  891.000000  891.000000  891.0  891.000000\n",
      "mean     0.383838    2.308642   28.476992    0.297419    0.0   17.383624\n",
      "std      0.486592    0.836071    9.793559    0.521648    0.0   12.713531\n",
      "min      0.000000    1.000000    3.000000    0.000000    0.0    0.000000\n",
      "25%      0.000000    2.000000   23.750000    0.000000    0.0    7.910156\n",
      "50%      0.000000    3.000000   28.000000    0.000000    0.0   14.453125\n",
      "75%      1.000000    3.000000   33.000000    1.000000    0.0   24.156250\n",
      "max      1.000000    3.000000   54.000000    2.000000    0.0   65.000000\n",
      "After MinMax treatment the stats are as below\n",
      "         survived      pclass         age       sibsp  parch        fare\n",
      "count  891.000000  891.000000  891.000000  891.000000  891.0  891.000000\n",
      "mean     0.383838    0.654321    0.499549    0.148709    0.0    0.267440\n",
      "std      0.486592    0.418036    0.192031    0.260824    0.0    0.195593\n",
      "min      0.000000    0.000000    0.000000    0.000000    0.0    0.000000\n",
      "25%      0.000000    0.500000    0.406863    0.000000    0.0    0.121695\n",
      "50%      0.000000    1.000000    0.490196    0.000000    0.0    0.222356\n",
      "75%      1.000000    1.000000    0.588235    0.500000    0.0    0.371635\n",
      "max      1.000000    1.000000    1.000000    1.000000    0.0    1.000000\n"
     ]
    }
   ],
   "source": [
    "from preprocessing.memory import MemoryUtil\n",
    "from preprocessing.nv import NVUtil\n",
    "from preprocessing.outlier import OutlierUtil\n",
    "from preprocessing.scalar import ScalarUtil\n",
    "import seaborn as sns\n",
    "import numpy as np\n",
    "\n",
    "df=sns.load_dataset('titanic')\n",
    "\n",
    "df = MemoryUtil.memory_optimize(df)\n",
    "excluded,retained,numerical,categorical,df = NVUtil.nv_treatment(df,30)\n",
    "df = OutlierUtil.iqr_outlier_treatment(df,numerical)\n",
    "df = ScalarUtil.min_max_scalar(df,numerical,categorical)"
   ]
  },
  {
   "cell_type": "markdown",
   "metadata": {},
   "source": [
    "### Nested Functions\n",
    "Eventhough we are just returning inner_func1() OR inner_func2() , when func1() is invoked either of inner_func1() OR inner_func2() will be invoked based on the value of x"
   ]
  },
  {
   "cell_type": "code",
   "execution_count": 29,
   "metadata": {},
   "outputs": [],
   "source": [
    "def func1(x):\n",
    "    print('func1')\n",
    "    \n",
    "    def inner_func1():\n",
    "        print('inner_func1')\n",
    "    \n",
    "    def inner_func2():\n",
    "        print('inner_func2')\n",
    "    \n",
    "    if x==2:\n",
    "        return inner_func1()\n",
    "    else:\n",
    "        return inner_func2()"
   ]
  },
  {
   "cell_type": "code",
   "execution_count": 7,
   "metadata": {},
   "outputs": [
    {
     "name": "stdout",
     "output_type": "stream",
     "text": [
      "func1\n",
      "inner_func2\n"
     ]
    }
   ],
   "source": [
    "func1(10)"
   ]
  },
  {
   "cell_type": "markdown",
   "metadata": {},
   "source": [
    "if we assign the output of func1() to a variable and print the type of the returned value it will show 'NoneType'"
   ]
  },
  {
   "cell_type": "code",
   "execution_count": 8,
   "metadata": {},
   "outputs": [
    {
     "name": "stdout",
     "output_type": "stream",
     "text": [
      "func1\n",
      "inner_func1\n"
     ]
    }
   ],
   "source": [
    "func1(2)"
   ]
  },
  {
   "cell_type": "markdown",
   "metadata": {},
   "source": [
    "### Variable Scope\n",
    "Variable scope in the order of priority as below,\n",
    "\n",
    "1) Local\n",
    "\n",
    "2) Enclosing brackets\n",
    "\n",
    "3) Global\n",
    "\n",
    "4) Builtin\n"
   ]
  },
  {
   "cell_type": "code",
   "execution_count": 23,
   "metadata": {},
   "outputs": [
    {
     "name": "stdout",
     "output_type": "stream",
     "text": [
      "in main, bar is 100\n",
      "\n",
      "calling foo()...\n",
      "in foo(), bar is 200\n",
      "in main, bar is 100\n"
     ]
    }
   ],
   "source": [
    "def foo():\n",
    "    print( \"\\ncalling foo()...\")\n",
    "    bar = 200\n",
    "    print( \"in foo(), bar is\", bar)\n",
    "\n",
    "bar = 100\n",
    "print (\"in main, bar is\", bar)\n",
    "foo()\n",
    "print (\"in main, bar is\", bar)"
   ]
  },
  {
   "cell_type": "code",
   "execution_count": 27,
   "metadata": {},
   "outputs": [
    {
     "name": "stdout",
     "output_type": "stream",
     "text": [
      "1 2 3\n",
      "1 2 3\n",
      "1 2 3\n"
     ]
    }
   ],
   "source": [
    "def f(a, b, c): \n",
    "    print (a, b, c)\n",
    "\n",
    "f(1, 2, 3)\n",
    "f(c=3, b=2, a=1)\n",
    "f(1, c=3, b=2)"
   ]
  },
  {
   "cell_type": "code",
   "execution_count": 33,
   "metadata": {},
   "outputs": [
    {
     "name": "stdout",
     "output_type": "stream",
     "text": [
      "6\n",
      "15\n"
     ]
    }
   ],
   "source": [
    "def f(a, b, c): \n",
    "    print (a+b+c)\n",
    "\n",
    "f(1,2,3)\n",
    "\n",
    "def f(a, b=2, c=4): \n",
    "    print (a+b+c)\n",
    "\n",
    "f(4,5,6)"
   ]
  },
  {
   "cell_type": "code",
   "execution_count": 40,
   "metadata": {},
   "outputs": [
    {
     "name": "stdout",
     "output_type": "stream",
     "text": [
      "6\n",
      "15\n"
     ]
    }
   ],
   "source": [
    "def f(a, b, c): \n",
    "    print (a+b+c)\n",
    "\n",
    "f(1,2,3)\n",
    "\n",
    "def f(a, b=2, c=4): \n",
    "    print (a+b+c)\n",
    "\n",
    "f(4,5,6)"
   ]
  },
  {
   "cell_type": "markdown",
   "metadata": {},
   "source": [
    "## Map\n",
    "Map takes a function as an argument and also a index based data structure.\n",
    "\n",
    "Function will be invoked with each element of the data structure and the output will be assigned to a list.\n",
    "\n",
    "The map() function executes a specified function for each item in a iterable. The item is sent to the function as a parameter."
   ]
  },
  {
   "cell_type": "code",
   "execution_count": 52,
   "metadata": {},
   "outputs": [
    {
     "data": {
      "text/plain": [
       "<map at 0x1ac4b4c4a88>"
      ]
     },
     "execution_count": 52,
     "metadata": {},
     "output_type": "execute_result"
    },
    {
     "data": {
      "text/plain": [
       "[1, 4, 9, 16, 25]"
      ]
     },
     "execution_count": 52,
     "metadata": {},
     "output_type": "execute_result"
    },
    {
     "data": {
      "text/plain": [
       "[1, 4, 9, 16, 25, 36, 49, 64, 81]"
      ]
     },
     "execution_count": 52,
     "metadata": {},
     "output_type": "execute_result"
    },
    {
     "data": {
      "text/plain": [
       "map"
      ]
     },
     "execution_count": 52,
     "metadata": {},
     "output_type": "execute_result"
    }
   ],
   "source": [
    "def func2(x):\n",
    "    return x**2\n",
    "\n",
    "map(func2,np.array([1,2,3,4,5])) \n",
    "## map method's second argument should take a datastructure that has index\n",
    "\n",
    "list(map(func2,np.array([1,2,3,4,5])))\n",
    "\n",
    "list(map(func2,np.arange(1,10)))\n",
    "\n",
    "type(map(func2,np.arange(1,10)))\n",
    "\n",
    "## map returns output for each values in the datastructure"
   ]
  },
  {
   "cell_type": "code",
   "execution_count": 31,
   "metadata": {},
   "outputs": [
    {
     "data": {
      "text/plain": [
       "['appleorange', 'bananalemon', 'cherrypineapple']"
      ]
     },
     "execution_count": 31,
     "metadata": {},
     "output_type": "execute_result"
    }
   ],
   "source": [
    "def myfunc(a, b):\n",
    "    return a + b\n",
    "\n",
    "x = map(myfunc, ('apple', 'banana', 'cherry'), ('orange', 'lemon', 'pineapple'))\n",
    "list(x)"
   ]
  },
  {
   "cell_type": "markdown",
   "metadata": {},
   "source": [
    "## Filter\n",
    "Filter takes a function as an argument and also a index based data structure. Function will be invoked with each element of the data structure and the output will be assigned to a list. Only such elements of the datastucture matching the filter condition will be assigned to the list.\n",
    "\n",
    "The filter() function returns an iterator were the items are filtered through a function to test if the item is accepted or not.\n",
    "\n",
    "- Filter takes in a function that returns True/False\n",
    "- Filter takes in an argument which is a datastructure that is index based\n",
    "- On invocation of filter method, it applies the function on each element on the datastructure and returns the elements which returns True"
   ]
  },
  {
   "cell_type": "code",
   "execution_count": 3,
   "metadata": {},
   "outputs": [
    {
     "data": {
      "text/plain": [
       "[2, 4, 6, 8]"
      ]
     },
     "execution_count": 3,
     "metadata": {},
     "output_type": "execute_result"
    }
   ],
   "source": [
    "def func3(x):\n",
    "    if x%2 == 0:\n",
    "        return True\n",
    "    else:\n",
    "        return False\n",
    "    \n",
    "list(filter(func3,np.arange(1,10))) \n"
   ]
  },
  {
   "cell_type": "code",
   "execution_count": 33,
   "metadata": {},
   "outputs": [
    {
     "name": "stdout",
     "output_type": "stream",
     "text": [
      "18\n",
      "24\n",
      "32\n"
     ]
    }
   ],
   "source": [
    "ages = [5, 12, 17, 18, 24, 32]\n",
    "\n",
    "def myFunc(x):\n",
    "    if x < 18:\n",
    "        return False\n",
    "    else:\n",
    "        return True\n",
    "\n",
    "adults = filter(myFunc, ages)\n",
    "\n",
    "for x in adults:\n",
    "    print(x) "
   ]
  },
  {
   "cell_type": "markdown",
   "metadata": {},
   "source": [
    "## Reduce\n",
    "reduce applies a function of two arguments cumulatively to the elements of an iterable, optionally starting with an initial argument. It has the following syntax:\n",
    "\n",
    "reduce(func, iterable[, initial])\n",
    "\n",
    "reduce takes the first and second elements in numbers and passes them to custom_sum respectively. custom_sum computes their sum and returns it to reduce. reduce then takes that result and applies it as the first element to custom_sum and takes the next element (third) in numbers as the second element to custom_sum. It does this continuously (cumulatively) until numbers is exhausted. "
   ]
  },
  {
   "cell_type": "code",
   "execution_count": 34,
   "metadata": {},
   "outputs": [
    {
     "name": "stdout",
     "output_type": "stream",
     "text": [
      "68\n"
     ]
    }
   ],
   "source": [
    "# Python 3\n",
    "from functools import reduce\n",
    "\n",
    "numbers = [3, 4, 6, 9, 34, 12]\n",
    "\n",
    "def custom_sum(first, second):\n",
    "    return first + second\n",
    "\n",
    "result = reduce(custom_sum, numbers)\n",
    "print(result)"
   ]
  },
  {
   "cell_type": "code",
   "execution_count": 35,
   "metadata": {},
   "outputs": [
    {
     "name": "stdout",
     "output_type": "stream",
     "text": [
      "78\n"
     ]
    }
   ],
   "source": [
    "# Python 3\n",
    "from functools import reduce\n",
    "\n",
    "numbers = [3, 4, 6, 9, 34, 12]\n",
    "\n",
    "def custom_sum(first, second):\n",
    "    return first + second\n",
    "\n",
    "result = reduce(custom_sum, numbers, 10)\n",
    "print(result)"
   ]
  },
  {
   "cell_type": "markdown",
   "metadata": {},
   "source": [
    "## Zip\n",
    "The zip() function returns a zip object, which is an iterator of tuples where the first item in each passed iterator is paired together, and then the second item in each passed iterator are paired together etc.\n",
    "\n",
    "If the passed iterators have different lengths, the iterator with the least items decides the length of the new iterator."
   ]
  },
  {
   "cell_type": "code",
   "execution_count": 38,
   "metadata": {
    "scrolled": true
   },
   "outputs": [
    {
     "data": {
      "text/plain": [
       "<zip at 0x1c5c8336c88>"
      ]
     },
     "execution_count": 38,
     "metadata": {},
     "output_type": "execute_result"
    },
    {
     "data": {
      "text/plain": [
       "[('John', 'Jenny'), ('Charles', 'Christy'), ('Mike', 'Monica')]"
      ]
     },
     "execution_count": 38,
     "metadata": {},
     "output_type": "execute_result"
    }
   ],
   "source": [
    "a = (\"John\", \"Charles\", \"Mike\")\n",
    "b = (\"Jenny\", \"Christy\", \"Monica\")\n",
    "\n",
    "x = zip(a, b) \n",
    "x\n",
    "list(x)"
   ]
  },
  {
   "cell_type": "code",
   "execution_count": 39,
   "metadata": {},
   "outputs": [
    {
     "data": {
      "text/plain": [
       "<zip at 0x1c5c833b408>"
      ]
     },
     "execution_count": 39,
     "metadata": {},
     "output_type": "execute_result"
    },
    {
     "data": {
      "text/plain": [
       "[('John', 'Jenny'), ('Charles', 'Christy')]"
      ]
     },
     "execution_count": 39,
     "metadata": {},
     "output_type": "execute_result"
    }
   ],
   "source": [
    "a = (\"John\", \"Charles\")\n",
    "b = (\"Jenny\", \"Christy\", \"Monica\")\n",
    "\n",
    "x = zip(a, b) \n",
    "x\n",
    "list(x)"
   ]
  },
  {
   "cell_type": "markdown",
   "metadata": {},
   "source": [
    "## TODO\n",
    "- Python classes\n",
    "- Python constructors\n",
    "- Python classpath ? \n",
    "    - When we write modules is it necessary it has to be in the same folder as the notebook file ? If so, then how sklearn libraries are working when we import"
   ]
  }
 ],
 "metadata": {
  "hide_input": false,
  "kernelspec": {
   "display_name": "Python 3",
   "language": "python",
   "name": "python3"
  },
  "language_info": {
   "codemirror_mode": {
    "name": "ipython",
    "version": 3
   },
   "file_extension": ".py",
   "mimetype": "text/x-python",
   "name": "python",
   "nbconvert_exporter": "python",
   "pygments_lexer": "ipython3",
   "version": "3.7.4"
  },
  "toc": {
   "base_numbering": 1,
   "nav_menu": {},
   "number_sections": true,
   "sideBar": true,
   "skip_h1_title": false,
   "title_cell": "Table of Contents",
   "title_sidebar": "Contents",
   "toc_cell": false,
   "toc_position": {},
   "toc_section_display": true,
   "toc_window_display": true
  }
 },
 "nbformat": 4,
 "nbformat_minor": 2
}
