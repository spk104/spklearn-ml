{
 "cells": [
  {
   "cell_type": "markdown",
   "metadata": {},
   "source": [
    "<h1> Day 23 - Class </h1>\n",
    "\n",
    "## Linear Regression Contd..."
   ]
  },
  {
   "cell_type": "markdown",
   "metadata": {},
   "source": [
    "### Gradient Descent"
   ]
  },
  {
   "cell_type": "markdown",
   "metadata": {},
   "source": [
    "Gradient descent is an optimization algorithm used to minimize some function by iteratively moving in the direction of steepest descent as defined by the negative of the gradient. In machine learning, we use gradient descent to update the parameters of our model. Parameters refer to coefficients in Linear Regression and weights in neural networks.\n",
    "\n",
    "Starting at the top of the mountain, we take our first step downhill in the direction specified by the negative gradient. Next we recalculate the negative gradient (passing in the coordinates of our new point) and take another step in the direction it specifies. We continue this process iteratively until we get to the bottom of our graph, or to a point where we can no longer move downhill–a local minimum.\n",
    "\n",
    "<img src='img/gradient-descent.png'/>"
   ]
  },
  {
   "cell_type": "markdown",
   "metadata": {},
   "source": [
    "#### Learning rate\n",
    "\n",
    "The size of these steps is called the learning rate. With a high learning rate we can cover more ground each step, but we risk overshooting the lowest point since the slope of the hill is constantly changing. With a very low learning rate, we can confidently move in the direction of the negative gradient since we are recalculating it so frequently. A low learning rate is more precise, but calculating the gradient is time-consuming, so it will take us a very long time to get to the bottom.\n",
    "\n",
    "\n",
    "#### Cost function\n",
    "\n",
    "A Loss Functions tells us “how good” our model is at making predictions for a given set of parameters. The cost function has its own curve and its own gradients. The slope of this curve tells us how to update our parameters to make the model more accurate.\n",
    "\n",
    "#### Derivatives - quick refresher\n",
    "\n",
    "We know that d/dx x^2 is 2x and d/dx of x^3 is 3x\n",
    "\n",
    "What does d/dx x^2 = 2x mean?\n",
    "\n",
    "It means that, for the function x^2, the slope or \"rate of change\" at any point is 2x.\n",
    "\n",
    "So when x=2 the slope is 2x = 4:\n",
    "\n",
    "Or when x=5 the slope is 2x = 10, and so on.\n",
    "\n",
    "i.e at a given point we can find the rate of change of y over x. \n",
    "\n",
    "\"Shrink towards zero\" is actually written as a limit like this:\n",
    "\n",
    "<img src='img/derivative1.png'/>\n",
    "\n",
    "\"The derivative of f equals the limit as Δx goes to zero of f(x+Δx) - f(x) over Δx\"\n",
    "\n",
    "Or sometimes the derivative is written like this \n",
    "\n",
    "<img src='img/dy-dx.png'/> <img src='img/derivative2.png'/>\n",
    "\n",
    "The process of finding a derivative is called \"differentiation\"."
   ]
  },
  {
   "cell_type": "markdown",
   "metadata": {},
   "source": [
    "<img src='img/derivative3.jpg'/>\n",
    "\n",
    "How do we interpret this information?  \n",
    "\n",
    "First, note that when x = 1 and y = 2, then the function z takes on a value of 3.  At this point on our \"mountain' or 3 dimensional shape, we can evaluate the change in the function z in 2 different directions.\n",
    "\n",
    "First, the change in z with respect to x is 10.  In other words, the slope in a direction parallel to the x-axis is 10.  Now turn 90 degrees.  The slope in a direction perpendicular to our previous slope is 6, therefore not quite as steep.  Also, note that although each slope depends on the change in only one variable, the position or fixed value of the other variable does matter; since you need both x and y to actually calculate the numerical values of slope."
   ]
  },
  {
   "cell_type": "markdown",
   "metadata": {},
   "source": [
    "#### Gradient Descent In Linear Regression - Explanation"
   ]
  },
  {
   "cell_type": "markdown",
   "metadata": {},
   "source": [
    "Now let’s run gradient descent using our new cost function. There are two parameters in our cost function we can control: m (weight) and b (bias). Since we need to consider the impact each one has on the final prediction, we need to use partial derivatives. We calculate the partial derivatives of the cost function with respect to each parameter and store the results in a gradient.\n",
    "\n",
    "<img src='img/derivative4.png'/>\n",
    "\n",
    "To solve for the gradient, we iterate through our data points using our new m and b values and compute the partial derivatives. This new gradient tells us the slope of our cost function at our current position (current parameter values) and the direction we should move to update our parameters. The size of our update is controlled by the learning rate.\n",
    "\n",
    "<img src='img/derivative5.jpg' />\n",
    "\n",
    "Essentially what we are figuring out here is the change in m and b with respect to the changing x and y values, and the change is such that the overall value of the cost function has to be the minimum\n",
    "\n",
    "<b> Code </b>\n",
    "<pre>\n",
    "def update_weights(m, b, X, Y, learning_rate):\n",
    "    m_deriv = 0\n",
    "    b_deriv = 0\n",
    "    N = len(X)\n",
    "    for i in range(N):\n",
    "        # Calculate partial derivatives\n",
    "        # -2x(y - (mx + b))\n",
    "        m_deriv += -2*X[i] * (Y[i] - (m*X[i] + b))\n",
    "\n",
    "        # -2(y - (mx + b))\n",
    "        b_deriv += -2*(Y[i] - (m*X[i] + b))\n",
    "\n",
    "    # We subtract because the derivatives point in direction of steepest ascent\n",
    "    m -= (m_deriv / float(N)) * learning_rate\n",
    "    b -= (b_deriv / float(N)) * learning_rate\n",
    "\n",
    "    return m, b\n",
    "</pre>"
   ]
  },
  {
   "cell_type": "markdown",
   "metadata": {},
   "source": [
    "### Neural Networks\n",
    "\n",
    "A cell that can process information is perceptron (in biological terms it's neuron)\n",
    "\n",
    "important concepts\n",
    "- input layer\n",
    "- hidden layer\n",
    "- output layer\n",
    "- nodes \n",
    "\n",
    "If a hidden layer has more than 2 layers, then it's called deep neural networks\n",
    "\n",
    "Because we are learning from such network its called deep learning\n",
    "\n",
    "Process of updating weights based on optimization/cost function is called back propagation\n",
    "\n",
    "Activation function ?? "
   ]
  },
  {
   "cell_type": "code",
   "execution_count": null,
   "metadata": {},
   "outputs": [],
   "source": [
    "from sklearn.neural_network import MLPRegressor\n",
    "ml = MLPRegressor()\n",
    "ml.fit(x,y)\n",
    "ml.predict(x)"
   ]
  }
 ],
 "metadata": {
  "hide_input": false,
  "kernelspec": {
   "display_name": "Python 3",
   "language": "python",
   "name": "python3"
  },
  "language_info": {
   "codemirror_mode": {
    "name": "ipython",
    "version": 3
   },
   "file_extension": ".py",
   "mimetype": "text/x-python",
   "name": "python",
   "nbconvert_exporter": "python",
   "pygments_lexer": "ipython3",
   "version": "3.7.4"
  },
  "toc": {
   "base_numbering": 1,
   "nav_menu": {},
   "number_sections": true,
   "sideBar": true,
   "skip_h1_title": false,
   "title_cell": "Table of Contents",
   "title_sidebar": "Contents",
   "toc_cell": false,
   "toc_position": {},
   "toc_section_display": true,
   "toc_window_display": true
  }
 },
 "nbformat": 4,
 "nbformat_minor": 2
}
